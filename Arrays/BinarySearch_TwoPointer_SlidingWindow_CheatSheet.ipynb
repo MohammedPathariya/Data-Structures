{
 "cells": [
  {
   "cell_type": "markdown",
   "id": "c5cc6968",
   "metadata": {},
   "source": [
    "### 1. Binary Search (Basic Search in Sorted Array)\n",
    "\n",
    "✅ Key Points:\n",
    "\n",
    "while L <= R\n",
    "\n",
    "Mid = (L + R) // 2 \n",
    "\n",
    "OR Mid = L + ((R - L)//2) -> solving the integer overflow problem\n",
    "\n",
    "Compare and shrink search space"
   ]
  },
  {
   "cell_type": "raw",
   "id": "440e1177",
   "metadata": {},
   "source": [
    "# Pseudocode:\n",
    "\n",
    "function binary_search(arr, target):\n",
    "    L ← 0, R ← length(arr) - 1\n",
    "    while L ≤ R:\n",
    "        M ← L + (R-L)//2\n",
    "        if arr[M] == target:\n",
    "            return True\n",
    "        else if arr[M] < target:\n",
    "            L ← M + 1\n",
    "        else:\n",
    "            R ← M - 1\n",
    "    return False"
   ]
  },
  {
   "cell_type": "code",
   "execution_count": 4,
   "id": "acafa4b5",
   "metadata": {},
   "outputs": [],
   "source": [
    "def binary_search(arr, target):\n",
    "    L, R = 0, len(arr) - 1\n",
    "    \n",
    "    while L <= R:\n",
    "        M = L + (R - L) // 2\n",
    "        \n",
    "        if arr[M] == target:\n",
    "            return True\n",
    "        elif arr[M] < target:\n",
    "            L = M + 1\n",
    "        else:\n",
    "            R = M - 1\n",
    "            \n",
    "    return False"
   ]
  },
  {
   "cell_type": "markdown",
   "id": "f85395a3",
   "metadata": {},
   "source": [
    "Complexity:\n",
    "\n",
    "Time: O(log N)\n",
    "\n",
    "Space: O(1)\n",
    "\n",
    "Typical Use Cases:\n",
    "\n",
    "Search in a sorted array\n",
    "\n",
    "Find first/last occurrence, floor/ceil\n",
    "\n",
    "Search in rotated arrays, binary search on answer (min/max problems)\n",
    "\n",
    "Pattern Lookouts:\n",
    "\n",
    "Words like “sorted”, “search”, “find position”, “minimum/maximum with condition”\n",
    "\n",
    "When the problem asks for efficiency better than O(N) in a sorted structure"
   ]
  },
  {
   "cell_type": "markdown",
   "id": "2440328d",
   "metadata": {},
   "source": [
    "### 🔹 2. Two Pointers (Pair Sum in Sorted Array)\n",
    "\n",
    "✅ Key Points:\n",
    "\n",
    "while L < R\n",
    "\n",
    "Move L to increase sum, R to decrease sum\n",
    "\n",
    "Works only if array is sorted"
   ]
  },
  {
   "cell_type": "raw",
   "id": "0f99c96d",
   "metadata": {},
   "source": [
    "# Pseudocode:\n",
    "\n",
    "function two_sum(arr, target):\n",
    "    L ← 0, R ← length(arr) - 1\n",
    "    while L < R:\n",
    "        sum ← arr[L] + arr[R]\n",
    "        if sum == target:\n",
    "            return (arr[L], arr[R])\n",
    "        else if sum < target:\n",
    "            L ← L + 1\n",
    "        else:\n",
    "            R ← R - 1\n",
    "    return False"
   ]
  },
  {
   "cell_type": "code",
   "execution_count": 2,
   "id": "f08693cc",
   "metadata": {},
   "outputs": [],
   "source": [
    "def two_sum(arr, target):\n",
    "    L, R = 0, len(arr) - 1\n",
    "    \n",
    "    while L < R:\n",
    "        s = arr[L] + arr[R]\n",
    "        \n",
    "        if s == target:\n",
    "            return (arr[L], arr[R])\n",
    "        elif s < target:\n",
    "            L += 1\n",
    "        else:\n",
    "            R -= 1\n",
    "    \n",
    "    return False"
   ]
  },
  {
   "cell_type": "markdown",
   "id": "8f557730",
   "metadata": {},
   "source": [
    "Complexity:\n",
    "\n",
    "Time: O(N)\n",
    "\n",
    "Space: O(1)\n",
    "\n",
    "Typical Use Cases:\n",
    "\n",
    "Pair problems (two-sum, three-sum, four-sum)\n",
    "\n",
    "Palindrome checking in strings\n",
    "\n",
    "Merging two sorted arrays/lists\n",
    "\n",
    "Container With Most Water / Trapping Rain Water\n",
    "\n",
    "Pattern Lookouts:\n",
    "\n",
    "Words like “pair”, “two numbers add to target”, “palindrome”, “merge”, “left & right”\n",
    "\n",
    "Sorted arrays where we can move from both ends"
   ]
  },
  {
   "cell_type": "code",
   "execution_count": null,
   "id": "2b361452",
   "metadata": {},
   "outputs": [],
   "source": []
  },
  {
   "cell_type": "markdown",
   "id": "a8da6faa",
   "metadata": {},
   "source": [
    "### 🔹 3. Sliding Window (Max Sum of Subarray of Size K)\n",
    "\n",
    "✅ Key Points:\n",
    "\n",
    "Precompute first window sum\n",
    "\n",
    "Add new element, remove old element in O(1)\n",
    "\n",
    "for i in range(k, n)"
   ]
  },
  {
   "cell_type": "raw",
   "id": "cb1ffa8b",
   "metadata": {},
   "source": [
    "# Pseudocode (Fixed Window Example):\n",
    "\n",
    "function max_subarray_sum(arr, k):\n",
    "    cur_sum ← sum(arr[0:k])\n",
    "    max_sum ← cur_sum\n",
    "    for i from k to len(arr)-1:\n",
    "        cur_sum ← cur_sum + arr[i] - arr[i-k]\n",
    "        max_sum ← max(max_sum, cur_sum)\n",
    "    return max_sum"
   ]
  },
  {
   "cell_type": "code",
   "execution_count": 3,
   "id": "265ddf83",
   "metadata": {},
   "outputs": [],
   "source": [
    "def max_subarray_sum(arr, k):\n",
    "    cur_sum = sum(arr[:k])\n",
    "    max_sum = cur_sum\n",
    "    \n",
    "    for i in range(k, len(arr)):\n",
    "        cur_sum += arr[i] - arr[i-k]\n",
    "        max_sum = max(max_sum, cur_sum)\n",
    "    \n",
    "    return max_sum"
   ]
  },
  {
   "cell_type": "markdown",
   "id": "9dff8c05",
   "metadata": {},
   "source": [
    "Complexity:\n",
    "\n",
    "Time: O(N)\n",
    "\n",
    "Space: O(1) (O(K) if you store the window)\n",
    "\n",
    "Typical Use Cases:\n",
    "\n",
    "Fixed size: max/min sum, average, etc.\n",
    "\n",
    "Variable size: longest substring without repeating characters, smallest subarray ≥ target, etc.\n",
    "\n",
    "Problems involving substrings, subarrays, or continuous ranges\n",
    "\n",
    "Pattern Lookouts:\n",
    "\n",
    "Words like “subarray”, “substring”, “longest/shortest”, “contiguous”, “at most K”, “no repeats”\n",
    "\n",
    "Optimization over continuous ranges"
   ]
  },
  {
   "cell_type": "code",
   "execution_count": null,
   "id": "dbb2a919",
   "metadata": {},
   "outputs": [],
   "source": []
  },
  {
   "cell_type": "markdown",
   "id": "c19e7a30",
   "metadata": {},
   "source": [
    "Quick Pattern Recap (Tell-Tale Signs)\n",
    "\n",
    "Binary Search → “sorted array” + “search/position/min/max condition”\n",
    "\n",
    "Two Pointers → “pairs/triplets/merge/palindrome/left & right”\n",
    "\n",
    "Sliding Window → “subarray/substring/contiguous/longest/shortest/at most K”"
   ]
  }
 ],
 "metadata": {
  "kernelspec": {
   "display_name": "Python 3 (ipykernel)",
   "language": "python",
   "name": "python3"
  },
  "language_info": {
   "codemirror_mode": {
    "name": "ipython",
    "version": 3
   },
   "file_extension": ".py",
   "mimetype": "text/x-python",
   "name": "python",
   "nbconvert_exporter": "python",
   "pygments_lexer": "ipython3",
   "version": "3.11.4"
  }
 },
 "nbformat": 4,
 "nbformat_minor": 5
}
