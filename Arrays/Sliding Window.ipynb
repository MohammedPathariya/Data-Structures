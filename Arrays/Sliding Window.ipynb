{
 "cells": [
  {
   "cell_type": "markdown",
   "id": "abe3ff16",
   "metadata": {},
   "source": [
    "👉 Given a string s, find the length of the longest substring without repeating characters.\n",
    "\n",
    "Example 1:\n",
    "Input: s = \"abcabcbb\"\n",
    "Output: 3\n",
    "\n",
    "Explanation: The answer is \"abc\", with length 3.\n",
    "\n",
    "Example 2:\n",
    "Input: s = \"bbbbb\"\n",
    "Output: 1\n",
    "\n",
    "Explanation: The answer is \"b\", with length 1.\n",
    "\n",
    "Example 3:\n",
    "Input: s = \"pwwkew\"\n",
    "Output: 3\n",
    "\n",
    "Explanation: The answer is \"wke\", with length 3.\n",
    "\n",
    "👉 This is the LeetCode 3: Longest Substring Without Repeating Characters problem — one of the most famous sliding window examples."
   ]
  },
  {
   "cell_type": "code",
   "execution_count": 2,
   "id": "d1c5c733",
   "metadata": {},
   "outputs": [],
   "source": [
    "a = 'abcdefghijklmnopqrstuvwxyza'"
   ]
  },
  {
   "cell_type": "markdown",
   "id": "f63e9dca",
   "metadata": {},
   "source": [
    "## Brute Force"
   ]
  },
  {
   "cell_type": "code",
   "execution_count": 5,
   "id": "d7534132",
   "metadata": {},
   "outputs": [],
   "source": [
    "def longest_substring_bruteforce(s):\n",
    "    n = len(s)\n",
    "    longest = 0\n",
    "\n",
    "    for i in range(n):          # start index\n",
    "        for j in range(i, n):   # end index\n",
    "            substring = s[i:j+1]\n",
    "            if len(set(substring)) == (j - i + 1):  # all unique\n",
    "                longest = max(longest, j - i + 1)\n",
    "\n",
    "    return longest"
   ]
  },
  {
   "cell_type": "code",
   "execution_count": 6,
   "id": "98fc2a82",
   "metadata": {},
   "outputs": [
    {
     "data": {
      "text/plain": [
       "26"
      ]
     },
     "execution_count": 6,
     "metadata": {},
     "output_type": "execute_result"
    }
   ],
   "source": [
    "longest_substring_bruteforce(a)"
   ]
  },
  {
   "cell_type": "markdown",
   "id": "926e403e",
   "metadata": {},
   "source": [
    "### Time Complexity\n",
    "\n",
    "Outer loop over start index = O(N).\n",
    "\n",
    "Inner loop over end index = O(N).\n",
    "\n",
    "Checking uniqueness with a set = O(N).\n",
    "\n",
    "Total = O(N³) (very slow for large strings).\n",
    "\n",
    "### Space Complexity\n",
    "\n",
    "At worst, the set may hold all characters of the string.\n",
    "\n",
    "O(N) extra space."
   ]
  },
  {
   "cell_type": "markdown",
   "id": "773b8a16",
   "metadata": {},
   "source": [
    "## Optimal Sliding Window Solution"
   ]
  },
  {
   "cell_type": "code",
   "execution_count": 3,
   "id": "65aa6c88",
   "metadata": {},
   "outputs": [],
   "source": [
    "def longest_substring(s):\n",
    "    l = 0\n",
    "    longest = 0\n",
    "    sett = set()\n",
    "    n = len(s)\n",
    "    \n",
    "    for r in range (n):\n",
    "        while s[r] in sett:\n",
    "            sett.remove(s[l])\n",
    "            l += 1\n",
    "            \n",
    "        w = (r-l) + 1\n",
    "        longest = max(longest, w)\n",
    "        sett.add(s[r])\n",
    "        \n",
    "    return longest"
   ]
  },
  {
   "cell_type": "code",
   "execution_count": 4,
   "id": "851053b2",
   "metadata": {},
   "outputs": [
    {
     "data": {
      "text/plain": [
       "26"
      ]
     },
     "execution_count": 4,
     "metadata": {},
     "output_type": "execute_result"
    }
   ],
   "source": [
    "longest_substring(a)"
   ]
  },
  {
   "cell_type": "markdown",
   "id": "f10e46e6",
   "metadata": {},
   "source": [
    "### Time Complexity\n",
    "\n",
    "The right pointer r moves across the string once → O(N).\n",
    "\n",
    "The left pointer l also moves at most N times (each character is added once and removed once from the set).\n",
    "\n",
    "Each character is processed at most twice (once by r, once by l).\n",
    "\n",
    "Total Time Complexity=O(N)\n",
    "\n",
    "### Space Complexity\n",
    "\n",
    "We use a set (sett) to store the characters in the current window.\n",
    "\n",
    "In the worst case (all unique characters), the set can hold N characters.\n",
    "\n",
    "Space Complexity=O(N)"
   ]
  },
  {
   "cell_type": "code",
   "execution_count": null,
   "id": "8c4e5d48",
   "metadata": {},
   "outputs": [],
   "source": []
  },
  {
   "cell_type": "markdown",
   "id": "a9fe741e",
   "metadata": {},
   "source": [
    "👉 Given an array nums and an integer k, find the contiguous subarray of length k that has the maximum average value, and return this maximum average.\n",
    "\n",
    "Example:\n",
    "Input: nums = [1, 12, -5, -6, 50, 3], k = 4\n",
    "\n",
    "Output: 12.75\n",
    "\n",
    "Explanation: The subarray [12, -5, -6, 50] has the maximum average (12 - 5 - 6 + 50) / 4 = 51 / 4 = 12.75.\n",
    "\n",
    "This is the Fixed Sliding Window problem (Maximum Average Subarray I, LeetCode 643)"
   ]
  },
  {
   "cell_type": "markdown",
   "id": "c0d89fe6",
   "metadata": {},
   "source": [
    "## Brute Force"
   ]
  },
  {
   "cell_type": "code",
   "execution_count": 21,
   "id": "dca5536f",
   "metadata": {},
   "outputs": [],
   "source": [
    "def findMaxAverage_bruteforce(nums, k):\n",
    "    n = len(nums)\n",
    "    max_avg = float('-inf')\n",
    "    \n",
    "    for i in range(n - k + 1):   # start of subarray\n",
    "        cur_sum = 0\n",
    "        for j in range(i, i + k):   # compute sum of k elements\n",
    "            cur_sum += nums[j]\n",
    "        avg = cur_sum / k\n",
    "        max_avg = max(max_avg, avg)\n",
    "    \n",
    "    return max_avg"
   ]
  },
  {
   "cell_type": "markdown",
   "id": "df24ea60",
   "metadata": {},
   "source": [
    "### Idea:\n",
    "\n",
    "Look at every possible subarray of length k.\n",
    "\n",
    "For each subarray, calculate its sum, divide by k for the average.\n",
    "\n",
    "Track the maximum average.\n",
    "\n",
    "\n",
    "### Time Complexity:\n",
    "\n",
    "Outer loop: O(N – K + 1)\n",
    "\n",
    "Inner loop: O(K)\n",
    "\n",
    "Total = O(N × K)\n",
    "\n",
    "### Space Complexity:\n",
    "\n",
    "Just variables → O(1)"
   ]
  },
  {
   "cell_type": "markdown",
   "id": "03577ec8",
   "metadata": {},
   "source": [
    "## Optimized Sliding Window Approach"
   ]
  },
  {
   "cell_type": "code",
   "execution_count": 17,
   "id": "d68e1b27",
   "metadata": {},
   "outputs": [],
   "source": [
    "def findMaxAverage(nums, k):\n",
    "    n = len(nums)\n",
    "    cur_sum = 0\n",
    "    \n",
    "    for i in range(k):\n",
    "        cur_sum += nums[i]\n",
    "    max_avg = cur_sum/k\n",
    "    \n",
    "    for i in range(k, n):\n",
    "        cur_sum += nums[i]\n",
    "        cur_sum -= nums[i-k]\n",
    "        \n",
    "        avg = cur_sum/k\n",
    "        max_avg = max(max_avg, avg)\n",
    "        \n",
    "    return max_avg"
   ]
  },
  {
   "cell_type": "code",
   "execution_count": 18,
   "id": "67cffdaa",
   "metadata": {},
   "outputs": [
    {
     "data": {
      "text/plain": [
       "12.75"
      ]
     },
     "execution_count": 18,
     "metadata": {},
     "output_type": "execute_result"
    }
   ],
   "source": [
    "C = [1,12,-5,-6,50,3]\n",
    "\n",
    "findMaxAverage(C, 4)"
   ]
  },
  {
   "cell_type": "markdown",
   "id": "c1af802e",
   "metadata": {},
   "source": [
    "### Working:\n",
    "\n",
    "Compute the sum of the first k elements (initial window).\n",
    "\n",
    "cur_sum=nums[0]+nums[1]+⋯+nums[k−1]\n",
    "\n",
    "This gives the average of the first window.\n",
    "\n",
    "Set max_avg = cur_sum / k.\n",
    "\n",
    "Slide the window one step at a time:\n",
    "\n",
    "Add the new element at the right (nums[i]).\n",
    "\n",
    "Remove the element that went out of the window (nums[i-k]).\n",
    "\n",
    "Update the sum in O(1).\n",
    "\n",
    "cur_sum=cur_sum+nums[i]−nums[i−k]\n",
    "\n",
    "Calculate the new average = cur_sum / k.\n",
    "\n",
    "Update max_avg = max(max_avg, avg).\n",
    "\n",
    "Repeat until the end of the array.\n",
    "\n",
    "### Time Complexity: \n",
    "O(N) (each element added & removed once).\n",
    "\n",
    "### Space Complexity: \n",
    "O(1)."
   ]
  },
  {
   "cell_type": "code",
   "execution_count": null,
   "id": "cb59f5af",
   "metadata": {},
   "outputs": [],
   "source": []
  }
 ],
 "metadata": {
  "kernelspec": {
   "display_name": "Python 3 (ipykernel)",
   "language": "python",
   "name": "python3"
  },
  "language_info": {
   "codemirror_mode": {
    "name": "ipython",
    "version": 3
   },
   "file_extension": ".py",
   "mimetype": "text/x-python",
   "name": "python",
   "nbconvert_exporter": "python",
   "pygments_lexer": "ipython3",
   "version": "3.11.4"
  }
 },
 "nbformat": 4,
 "nbformat_minor": 5
}
