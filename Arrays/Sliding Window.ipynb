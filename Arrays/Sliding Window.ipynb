{
 "cells": [
  {
   "cell_type": "markdown",
   "id": "9b90e88a",
   "metadata": {},
   "source": [
    "👉 Given a string s, find the length of the longest substring without repeating characters.\n",
    "\n",
    "Example 1:\n",
    "Input: s = \"abcabcbb\"\n",
    "Output: 3\n",
    "\n",
    "Explanation: The answer is \"abc\", with length 3.\n",
    "\n",
    "Example 2:\n",
    "Input: s = \"bbbbb\"\n",
    "Output: 1\n",
    "\n",
    "Explanation: The answer is \"b\", with length 1.\n",
    "\n",
    "Example 3:\n",
    "Input: s = \"pwwkew\"\n",
    "Output: 3\n",
    "\n",
    "Explanation: The answer is \"wke\", with length 3.\n",
    "\n",
    "👉 This is the LeetCode 3: Longest Substring Without Repeating Characters problem — one of the most famous sliding window examples."
   ]
  },
  {
   "cell_type": "code",
   "execution_count": 2,
   "id": "a7176bbe",
   "metadata": {},
   "outputs": [],
   "source": [
    "a = 'abcdefghijklmnopqrstuvwxyza'"
   ]
  },
  {
   "cell_type": "markdown",
   "id": "618cca2c",
   "metadata": {},
   "source": [
    "## Brute Force"
   ]
  },
  {
   "cell_type": "code",
   "execution_count": 5,
   "id": "8d96b3c6",
   "metadata": {},
   "outputs": [],
   "source": [
    "def longest_substring_bruteforce(s):\n",
    "    n = len(s)\n",
    "    longest = 0\n",
    "\n",
    "    for i in range(n):          # start index\n",
    "        for j in range(i, n):   # end index\n",
    "            substring = s[i:j+1]\n",
    "            if len(set(substring)) == (j - i + 1):  # all unique\n",
    "                longest = max(longest, j - i + 1)\n",
    "\n",
    "    return longest"
   ]
  },
  {
   "cell_type": "code",
   "execution_count": 6,
   "id": "c875fb3d",
   "metadata": {},
   "outputs": [
    {
     "data": {
      "text/plain": [
       "26"
      ]
     },
     "execution_count": 6,
     "metadata": {},
     "output_type": "execute_result"
    }
   ],
   "source": [
    "longest_substring_bruteforce(a)"
   ]
  },
  {
   "cell_type": "markdown",
   "id": "65474551",
   "metadata": {},
   "source": [
    "### Time Complexity\n",
    "\n",
    "Outer loop over start index = O(N).\n",
    "\n",
    "Inner loop over end index = O(N).\n",
    "\n",
    "Checking uniqueness with a set = O(N).\n",
    "\n",
    "Total = O(N³) (very slow for large strings).\n",
    "\n",
    "### Space Complexity\n",
    "\n",
    "At worst, the set may hold all characters of the string.\n",
    "\n",
    "O(N) extra space."
   ]
  },
  {
   "cell_type": "markdown",
   "id": "655db696",
   "metadata": {},
   "source": [
    "## Optimal Sliding Window Solution"
   ]
  },
  {
   "cell_type": "code",
   "execution_count": 3,
   "id": "a2dbe9cb",
   "metadata": {},
   "outputs": [],
   "source": [
    "def longest_substring(s):\n",
    "    l = 0\n",
    "    longest = 0\n",
    "    sett = set()\n",
    "    n = len(s)\n",
    "    \n",
    "    for r in range (n):\n",
    "        while s[r] in sett:\n",
    "            sett.remove(s[l])\n",
    "            l += 1\n",
    "            \n",
    "        w = (r-l) + 1\n",
    "        longest = max(longest, w)\n",
    "        sett.add(s[r])\n",
    "        \n",
    "    return longest"
   ]
  },
  {
   "cell_type": "code",
   "execution_count": 4,
   "id": "bf0ebedb",
   "metadata": {},
   "outputs": [
    {
     "data": {
      "text/plain": [
       "26"
      ]
     },
     "execution_count": 4,
     "metadata": {},
     "output_type": "execute_result"
    }
   ],
   "source": [
    "longest_substring(a)"
   ]
  },
  {
   "cell_type": "markdown",
   "id": "e707e916",
   "metadata": {},
   "source": [
    "### Time Complexity\n",
    "\n",
    "The right pointer r moves across the string once → O(N).\n",
    "\n",
    "The left pointer l also moves at most N times (each character is added once and removed once from the set).\n",
    "\n",
    "Each character is processed at most twice (once by r, once by l).\n",
    "\n",
    "Total Time Complexity=O(N)\n",
    "\n",
    "### Space Complexity\n",
    "\n",
    "We use a set (sett) to store the characters in the current window.\n",
    "\n",
    "In the worst case (all unique characters), the set can hold N characters.\n",
    "\n",
    "Space Complexity=O(N)"
   ]
  },
  {
   "cell_type": "code",
   "execution_count": null,
   "id": "d84004d0",
   "metadata": {},
   "outputs": [],
   "source": []
  }
 ],
 "metadata": {
  "kernelspec": {
   "display_name": "Python 3 (ipykernel)",
   "language": "python",
   "name": "python3"
  },
  "language_info": {
   "codemirror_mode": {
    "name": "ipython",
    "version": 3
   },
   "file_extension": ".py",
   "mimetype": "text/x-python",
   "name": "python",
   "nbconvert_exporter": "python",
   "pygments_lexer": "ipython3",
   "version": "3.11.4"
  }
 },
 "nbformat": 4,
 "nbformat_minor": 5
}
