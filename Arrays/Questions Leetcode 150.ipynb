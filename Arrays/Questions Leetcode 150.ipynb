{
 "cells": [
  {
   "cell_type": "markdown",
   "id": "0b0188d6",
   "metadata": {},
   "source": [
    "# 88. Merged Sorted Array"
   ]
  },
  {
   "cell_type": "markdown",
   "id": "d117b614",
   "metadata": {},
   "source": [
    "We are given two sorted arrays:\n",
    "\n",
    "nums1 of size m + n, where the first m elements are valid numbers, and the last n spots are empty (filled with zeros).\n",
    "\n",
    "nums2 of size n, which has n valid numbers.\n",
    "\n",
    "We need to merge these two arrays into nums1 itself so that after merging, the first m + n elements of nums1 form a sorted array.\n",
    "\n",
    "Key points:\n",
    "\n",
    "Both arrays are sorted.\n",
    "\n",
    "The result should be stored in-place inside nums1.\n",
    "\n",
    "The leftover empty slots in nums1 are there exactly to hold the new elements from nums2.\n",
    "\n",
    "👉 In short: take nums1 and nums2 (both sorted), merge them into nums1 itself so nums1 becomes one big sorted array."
   ]
  },
  {
   "cell_type": "code",
   "execution_count": 10,
   "id": "f38577c1",
   "metadata": {},
   "outputs": [],
   "source": [
    "# Brute Force Method\n",
    "\n",
    "def mergeSortedArray_bruteforce(nums1, m, nums2, n):\n",
    "    temp = [None] * (m + n)          # new container\n",
    "    nums1_p, nums2_p, temp_p = 0, 0, 0  # three pointers\n",
    "    \n",
    "    # Merge while both arrays have elements left\n",
    "    while nums1_p < m and nums2_p < n:\n",
    "        if nums1[nums1_p] <= nums2[nums2_p]:\n",
    "            temp[temp_p] = nums1[nums1_p]\n",
    "            nums1_p += 1\n",
    "        else:\n",
    "            temp[temp_p] = nums2[nums2_p]\n",
    "            nums2_p += 1\n",
    "        temp_p += 1\n",
    "    \n",
    "    # Copy leftovers (only one of these loops will run)\n",
    "    while nums1_p < m:\n",
    "        temp[temp_p] = nums1[nums1_p]\n",
    "        nums1_p += 1\n",
    "        temp_p += 1\n",
    "\n",
    "    while nums2_p < n:\n",
    "        temp[temp_p] = nums2[nums2_p]\n",
    "        nums2_p += 1\n",
    "        temp_p += 1\n",
    "\n",
    "    return temp"
   ]
  },
  {
   "cell_type": "code",
   "execution_count": 11,
   "id": "ded4d056",
   "metadata": {},
   "outputs": [
    {
     "data": {
      "text/plain": [
       "[1, 2, 2, 3, 5, 6]"
      ]
     },
     "execution_count": 11,
     "metadata": {},
     "output_type": "execute_result"
    }
   ],
   "source": [
    "nums1 = [1,2,3,0,0,0]\n",
    "m = 3\n",
    "nums2 = [2,5,6]\n",
    "n = 3\n",
    "mergeSortedArray_bruteforce(nums1, m, nums2, n)"
   ]
  },
  {
   "cell_type": "markdown",
   "id": "81f76470",
   "metadata": {},
   "source": [
    "### Explanation\n",
    "\n",
    "We start with two arrays and their sizes m and n (basically the number of valid elements to consider in each array). Then we create a temp array of size (m+n) because the final merged result will contain all the elements.\n",
    "\n",
    "Next, we initialize three pointers at 0: one for nums1, one for nums2, and one for temp. The goal is to build a sorted merged array, so at each step we compare the current elements from nums1 and nums2. Whichever is smaller gets placed into the temp array. After placing it, we move forward the pointer in that array and also move the temp pointer.\n",
    "\n",
    "This process continues until one of the arrays is exhausted (we reach the end of either m or n). At that point, the other array may still have leftover elements. Since the leftover part is already sorted, we just copy those elements directly into temp using the extra while loops.\n",
    "\n",
    "In the end, the temp array will contain all the elements from both arrays in sorted order.\n",
    "\n",
    "Time Complexity - O(m+n)\n",
    "\n",
    "Space Complexity - O(m+n)\n",
    "\n",
    "In the next more optimal solution, the time complexity remains the same, but the space complexity drops to O(1), as we dont use any extra temp array storage."
   ]
  },
  {
   "cell_type": "code",
   "execution_count": 15,
   "id": "3e31bf31",
   "metadata": {},
   "outputs": [],
   "source": [
    "# Optimized Approach\n",
    "\n",
    "def merged_sortedArray(nums1, m, nums2, n):\n",
    "    last = (m+n) - 1\n",
    "    \n",
    "    while m > 0 and n > 0:\n",
    "        if nums1[m-1] < nums2[n-1]:\n",
    "            nums1[last] = nums2[n-1]\n",
    "            n -= 1\n",
    "            \n",
    "        else:\n",
    "            nums1[last] = nums1[m-1]\n",
    "            m -=1\n",
    "            \n",
    "        last -= 1\n",
    "        \n",
    "    #dealing with the leftover elements in nums2 (if any)\n",
    "    \n",
    "    while n > 0:\n",
    "        nums1[last] = nums2[n-1]\n",
    "        n -= 1\n",
    "        last -= 1"
   ]
  },
  {
   "cell_type": "code",
   "execution_count": 16,
   "id": "487c835c",
   "metadata": {},
   "outputs": [
    {
     "data": {
      "text/plain": [
       "[1, 2, 2, 3, 5, 6]"
      ]
     },
     "execution_count": 16,
     "metadata": {},
     "output_type": "execute_result"
    }
   ],
   "source": [
    "nums1 = [1,2,3,0,0,0]\n",
    "m = 3\n",
    "nums2 = [2,5,6]\n",
    "n = 3\n",
    "mergeSortedArray(nums1, m, nums2, n)"
   ]
  },
  {
   "cell_type": "markdown",
   "id": "ae4b05e8",
   "metadata": {},
   "source": [
    "### Explanation\n",
    "\n",
    "We don’t create a temp array. nums1 already has room (m + n slots), so we fill it from the end.\n",
    "\n",
    "Set last = m + n − 1 → this is the write index at the very back of nums1.\n",
    "\n",
    "Now compare the last valid elements: nums1[m−1] vs nums2[n−1].\n",
    "\n",
    "Whichever is bigger goes into nums1[last].\n",
    "\n",
    "Move that array’s pointer (m or n) left by 1.\n",
    "\n",
    "Move last left by 1.\n",
    "\n",
    "Repeat while both m > 0 and n > 0.\n",
    "\n",
    "After that, if anything remains in nums2, copy it into nums1 (from the back).\n",
    "(If anything remains in nums1, it’s already in the correct place—no work needed.)\n",
    "\n",
    "End result: nums1 contains the fully merged, sorted array in place.\n",
    "\n",
    "Why fill from the back?\n",
    "Because nums1 has meaningful data at the front and empty space at the end. If we wrote from the front, we’d overwrite useful values. Writing from the back avoids that overwrite problem.\n",
    "\n",
    "Time Complexity - O(m+n)\n",
    "\n",
    "Space Complexity - O(1)"
   ]
  },
  {
   "cell_type": "code",
   "execution_count": null,
   "id": "1f836776",
   "metadata": {},
   "outputs": [],
   "source": []
  },
  {
   "cell_type": "code",
   "execution_count": null,
   "id": "cc65156d",
   "metadata": {},
   "outputs": [],
   "source": []
  },
  {
   "cell_type": "markdown",
   "id": "8e5b4939",
   "metadata": {},
   "source": [
    "# 27. Remove Element"
   ]
  },
  {
   "cell_type": "markdown",
   "id": "4c749518",
   "metadata": {},
   "source": [
    "We are given an array nums and a value val. The task is to remove all occurrences of val from the array, but we have to do it in-place (so no extra array).\n",
    "\n",
    "At the end, the array should be changed such that:\n",
    "\n",
    "The first k elements of nums contain all the values that are not equal to val.\n",
    "\n",
    "The rest of the elements (after k) don’t matter — they can be left as garbage, since the judge will only check the first k.\n",
    "\n",
    "The function should return k, i.e., the number of elements left after removing all vals.\n",
    "\n",
    "👉 In short: push all the elements that are not val to the front of nums, return how many there are. The order doesn’t matter for the rest of the array."
   ]
  },
  {
   "cell_type": "code",
   "execution_count": 17,
   "id": "883f27a7",
   "metadata": {},
   "outputs": [],
   "source": [
    "def removeElement(nums, val):\n",
    "    k = 0\n",
    "    \n",
    "    for i in range(len(nums)):\n",
    "        if nums[i] != val:\n",
    "            nums[k] = nums[i]\n",
    "            k += 1\n",
    "    return k"
   ]
  },
  {
   "cell_type": "code",
   "execution_count": 18,
   "id": "f561dc6f",
   "metadata": {},
   "outputs": [
    {
     "data": {
      "text/plain": [
       "5"
      ]
     },
     "execution_count": 18,
     "metadata": {},
     "output_type": "execute_result"
    }
   ],
   "source": [
    "nums = [0,1,2,2,3,0,4,2]\n",
    "val = 2\n",
    "removeElement(nums,val)"
   ]
  },
  {
   "cell_type": "markdown",
   "id": "b0ee258d",
   "metadata": {},
   "source": [
    "## Explanation\n",
    "\n",
    "We start with a pointer k = 0. This pointer marks the position where the next valid (non-val) element should go.\n",
    "\n",
    "Now we loop through the array with index i. For each element:\n",
    "\n",
    "If nums[i] == val, we just skip it, don’t do anything.\n",
    "\n",
    "If nums[i] != val, then this is a “good” element, so we copy it into nums[k]. After placing it, we move k forward by 1.\n",
    "\n",
    "By the time the loop ends:\n",
    "\n",
    "The first k elements of nums are all the values that are not equal to val.\n",
    "\n",
    "Everything after k doesn’t matter (can be junk, the judge ignores it).\n",
    "\n",
    "We return k, which is the count of valid elements.\n",
    "\n",
    "Dry Run Example\n",
    "\n",
    "nums = [3,2,2,3], val = 3\n",
    "\n",
    "Start: k=0\n",
    "\n",
    "i=0 → nums[0]=3 → equals val → skip.\n",
    "\n",
    "i=1 → nums[1]=2 → not val → place at nums[0] → nums=[2,2,2,3], k=1.\n",
    "\n",
    "i=2 → nums[2]=2 → not val → place at nums[1] → nums=[2,2,2,3], k=2.\n",
    "\n",
    "i=3 → nums[3]=3 → equals val → skip.\n",
    "\n",
    "End: return k=2, and nums looks like [2,2,_,_].\n",
    "\n",
    "👉 So the code is basically shifting all the good elements left while counting them. That’s it."
   ]
  },
  {
   "cell_type": "code",
   "execution_count": null,
   "id": "6ebbe2c8",
   "metadata": {},
   "outputs": [],
   "source": []
  },
  {
   "cell_type": "code",
   "execution_count": null,
   "id": "65b50fee",
   "metadata": {},
   "outputs": [],
   "source": []
  },
  {
   "cell_type": "markdown",
   "id": "84b28407",
   "metadata": {},
   "source": [
    "# 26. Remove Duplicates from Sorted Array\n",
    "\n",
    "Given a sorted integer array nums (non-decreasing), remove duplicates in-place so each unique element appears once and order stays the same.\n",
    "Return k, the number of unique elements.\n",
    "After your function, the first k positions of nums must hold those uniques (rest can be anything / ignored)."
   ]
  },
  {
   "cell_type": "code",
   "execution_count": 16,
   "id": "702e1052",
   "metadata": {},
   "outputs": [],
   "source": [
    "def removeDuplicates(nums):\n",
    "    if not nums:\n",
    "        return 0\n",
    "    l = 1\n",
    "    for r in range(1, len(nums)):\n",
    "        if nums[r] != nums[r - 1]:\n",
    "            nums[l] = nums[r]\n",
    "            l += 1\n",
    "    return l"
   ]
  },
  {
   "cell_type": "code",
   "execution_count": 17,
   "id": "c03728c3",
   "metadata": {},
   "outputs": [
    {
     "data": {
      "text/plain": [
       "5"
      ]
     },
     "execution_count": 17,
     "metadata": {},
     "output_type": "execute_result"
    }
   ],
   "source": [
    "nums = [0,0,1,1,1,2,2,3,3,4]\n",
    "\n",
    "removeDuplicates(nums)"
   ]
  },
  {
   "cell_type": "markdown",
   "id": "9f45b9db",
   "metadata": {},
   "source": [
    "## Working\n",
    "\n",
    "Use two pointers:\n",
    "\n",
    "l = index where the next unique should be written (write pointer).\n",
    "\n",
    "r = current scan index (read pointer).\n",
    "\n",
    "Init:\n",
    "\n",
    "If nums is empty: return 0.\n",
    "\n",
    "Set l = 1 (first element is always unique and kept at index 0).\n",
    "\n",
    "Loop r from 1 to len(nums)-1.\n",
    "\n",
    "Loop:\n",
    "\n",
    "If nums[r] != nums[r-1] → we found a new unique.\n",
    "\n",
    "Write it at nums[l] = nums[r].\n",
    "\n",
    "Increment l += 1.\n",
    "\n",
    "Else (equal) → duplicate, skip.\n",
    "\n",
    "End:\n",
    "\n",
    "l is the count k (number of uniques).\n",
    "\n",
    "The first l elements of nums are the unique values in order.\n",
    "\n",
    "Complexity:\n",
    "\n",
    "Time: O(n) (single pass).\n",
    "\n",
    "Space: O(1) (in-place).\n",
    "\n",
    "Why it works:\n",
    "\n",
    "Array is sorted, so duplicates are adjacent.\n",
    "\n",
    "Comparing nums[r] with nums[r-1] cleanly detects a new unique.\n",
    "\n",
    "Writing uniques forward compacts the array without extra memory."
   ]
  },
  {
   "cell_type": "code",
   "execution_count": null,
   "id": "67a9aded",
   "metadata": {},
   "outputs": [],
   "source": []
  },
  {
   "cell_type": "markdown",
   "id": "13d3d5a5",
   "metadata": {},
   "source": [
    "# 80. Remove Duplicates from Sorted Array II"
   ]
  },
  {
   "cell_type": "markdown",
   "id": "75a1e3ea",
   "metadata": {},
   "source": [
    "In a sorted array nums, keep at most two copies of each value, in-place.\n",
    "Return k = length of the “cleaned” prefix nums[:k] containing the final result."
   ]
  },
  {
   "cell_type": "code",
   "execution_count": 1,
   "id": "4bafca86",
   "metadata": {},
   "outputs": [],
   "source": [
    "def removeDuplicates(nums):\n",
    "        l,r = 0 , 0\n",
    "\n",
    "        while r < len(nums):\n",
    "            count = 1\n",
    "            while r + 1 < len(nums) and nums[r] == nums[r+1]:\n",
    "                r += 1\n",
    "                count += 1\n",
    "\n",
    "            for i in range(min(2, count)):\n",
    "                nums[l] = nums[r]\n",
    "                l += 1\n",
    "            r +=1\n",
    "        return l"
   ]
  },
  {
   "cell_type": "code",
   "execution_count": 2,
   "id": "b5e1d169",
   "metadata": {},
   "outputs": [
    {
     "data": {
      "text/plain": [
       "7"
      ]
     },
     "execution_count": 2,
     "metadata": {},
     "output_type": "execute_result"
    }
   ],
   "source": [
    "nums = [1,1,1,2,2,3,3,3,3,4]\n",
    "removeDuplicates(nums)"
   ]
  },
  {
   "cell_type": "markdown",
   "id": "de2cbbc6",
   "metadata": {},
   "source": [
    "Working:\n",
    "\n",
    "Initialize l = 0, r = 0.\n",
    "\n",
    "l (left) = next position to write a kept element.\n",
    "\n",
    "r (right) = current position to read from.\n",
    "\n",
    "Count a run:\n",
    "\n",
    "Set count = 1.\n",
    "\n",
    "While the next element is the same (nums[r] == nums[r+1]), move r right and increment count.\n",
    "\n",
    "After this loop, r is at the last index of the current value’s run, and count is the size of that run.\n",
    "\n",
    "Write up to two:\n",
    "\n",
    "For min(2, count) times, write nums[r] to nums[l], then l += 1.\n",
    "\n",
    "This enforces the “at most twice” rule.\n",
    "\n",
    "Advance to next run:\n",
    "\n",
    "r += 1 to move past the current run and start counting the next value.\n",
    "\n",
    "Return l:\n",
    "\n",
    "The first l elements in nums now hold the final array with each number appearing at most twice."
   ]
  },
  {
   "cell_type": "code",
   "execution_count": null,
   "id": "6089fb29",
   "metadata": {},
   "outputs": [],
   "source": []
  },
  {
   "cell_type": "markdown",
   "id": "7396439e",
   "metadata": {},
   "source": [
    "# 189. Rotate Array"
   ]
  },
  {
   "cell_type": "markdown",
   "id": "c3172f77",
   "metadata": {},
   "source": [
    "Given an array nums, rotate it to the right by k steps. Elements that “fall off” the end wrap around to the front. Normalize k with modulo because k can be larger than len(nums)."
   ]
  },
  {
   "cell_type": "code",
   "execution_count": 3,
   "id": "ba70b5b3",
   "metadata": {},
   "outputs": [],
   "source": [
    "def rotate(nums,k):\n",
    "        k = k % len(nums)\n",
    "\n",
    "        l, r = 0, len(nums) - 1\n",
    "        while l < r:\n",
    "            nums[l], nums[r] = nums[r], nums[l]\n",
    "            l, r = l + 1, r - 1\n",
    "\n",
    "        l, r = 0, k - 1\n",
    "        while l < r:\n",
    "            nums[l], nums[r] = nums[r], nums[l]\n",
    "            l, r = l + 1, r - 1\n",
    "\n",
    "        l, r = k, len(nums) - 1\n",
    "        while l < r:\n",
    "            nums[l], nums[r] = nums[r], nums[l]\n",
    "            l, r = l + 1, r - 1"
   ]
  },
  {
   "cell_type": "code",
   "execution_count": 4,
   "id": "51cd12cf",
   "metadata": {},
   "outputs": [],
   "source": [
    "nums = [1,2,3,4,5,6,7,8]\n",
    "rotate(nums, 3)"
   ]
  },
  {
   "cell_type": "markdown",
   "id": "79ad1408",
   "metadata": {},
   "source": [
    "Working of the Code\n",
    "\n",
    "Normalize k: k = k % len(nums) so rotating by k = n (or multiples) is a no-op, and large k is reduced.\n",
    "\n",
    "Reverse whole array: After reversing entire nums, the last k elements (that should end up in front) move to the front—but in reverse order.\n",
    "\n",
    "Reverse the first k elements: This fixes the order of the block that moved to the front.\n",
    "\n",
    "Reverse the remaining n-k elements: This fixes the order of the rest.\n",
    "\n",
    "Overall: reverse all → reverse first k → reverse last n−k gives a right-rotation by k in-place."
   ]
  },
  {
   "cell_type": "code",
   "execution_count": null,
   "id": "293f068f",
   "metadata": {},
   "outputs": [],
   "source": []
  }
 ],
 "metadata": {
  "kernelspec": {
   "display_name": "Python 3 (ipykernel)",
   "language": "python",
   "name": "python3"
  },
  "language_info": {
   "codemirror_mode": {
    "name": "ipython",
    "version": 3
   },
   "file_extension": ".py",
   "mimetype": "text/x-python",
   "name": "python",
   "nbconvert_exporter": "python",
   "pygments_lexer": "ipython3",
   "version": "3.11.4"
  }
 },
 "nbformat": 4,
 "nbformat_minor": 5
}
