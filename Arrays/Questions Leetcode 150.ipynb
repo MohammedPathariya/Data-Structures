{
 "cells": [
  {
   "cell_type": "markdown",
   "id": "fa741557",
   "metadata": {},
   "source": [
    "# 88. Merged Sorted Array"
   ]
  },
  {
   "cell_type": "code",
   "execution_count": null,
   "id": "b628f42c",
   "metadata": {},
   "outputs": [],
   "source": []
  },
  {
   "cell_type": "code",
   "execution_count": 10,
   "id": "0040b661",
   "metadata": {},
   "outputs": [],
   "source": [
    "# Brute Force Method\n",
    "\n",
    "def mergeSortedArray_bruteforce(nums1, m, nums2, n):\n",
    "    temp = [None] * (m + n)          # new container\n",
    "    nums1_p, nums2_p, temp_p = 0, 0, 0  # three pointers\n",
    "    \n",
    "    # Merge while both arrays have elements left\n",
    "    while nums1_p < m and nums2_p < n:\n",
    "        if nums1[nums1_p] <= nums2[nums2_p]:\n",
    "            temp[temp_p] = nums1[nums1_p]\n",
    "            nums1_p += 1\n",
    "        else:\n",
    "            temp[temp_p] = nums2[nums2_p]\n",
    "            nums2_p += 1\n",
    "        temp_p += 1\n",
    "    \n",
    "    # Copy leftovers (only one of these loops will run)\n",
    "    while nums1_p < m:\n",
    "        temp[temp_p] = nums1[nums1_p]\n",
    "        nums1_p += 1\n",
    "        temp_p += 1\n",
    "\n",
    "    while nums2_p < n:\n",
    "        temp[temp_p] = nums2[nums2_p]\n",
    "        nums2_p += 1\n",
    "        temp_p += 1\n",
    "\n",
    "    return temp"
   ]
  },
  {
   "cell_type": "code",
   "execution_count": 11,
   "id": "e0b6c33f",
   "metadata": {},
   "outputs": [
    {
     "data": {
      "text/plain": [
       "[1, 2, 2, 3, 5, 6]"
      ]
     },
     "execution_count": 11,
     "metadata": {},
     "output_type": "execute_result"
    }
   ],
   "source": [
    "nums1 = [1,2,3,0,0,0]\n",
    "m = 3\n",
    "nums2 = [2,5,6]\n",
    "n = 3\n",
    "mergeSortedArray_bruteforce(nums1, m, nums2, n)"
   ]
  },
  {
   "cell_type": "markdown",
   "id": "776644ea",
   "metadata": {},
   "source": [
    "### Explanation\n",
    "\n",
    "We start with two arrays and their sizes m and n (basically the number of valid elements to consider in each array). Then we create a temp array of size (m+n) because the final merged result will contain all the elements.\n",
    "\n",
    "Next, we initialize three pointers at 0: one for nums1, one for nums2, and one for temp. The goal is to build a sorted merged array, so at each step we compare the current elements from nums1 and nums2. Whichever is smaller gets placed into the temp array. After placing it, we move forward the pointer in that array and also move the temp pointer.\n",
    "\n",
    "This process continues until one of the arrays is exhausted (we reach the end of either m or n). At that point, the other array may still have leftover elements. Since the leftover part is already sorted, we just copy those elements directly into temp using the extra while loops.\n",
    "\n",
    "In the end, the temp array will contain all the elements from both arrays in sorted order.\n",
    "\n",
    "Time Complexity - O(m+n)\n",
    "\n",
    "Space Complexity - O(m+n)\n",
    "\n",
    "In the next more optimal solution, the time complexity remains the same, but the space complexity drops to O(1), as we dont use any extra temp array storage."
   ]
  },
  {
   "cell_type": "code",
   "execution_count": 15,
   "id": "8cc947c7",
   "metadata": {},
   "outputs": [],
   "source": [
    "# Optimized Approach\n",
    "\n",
    "def merged_sortedArray(nums1, m, nums2, n):\n",
    "    last = (m+n) - 1\n",
    "    \n",
    "    while m > 0 and n > 0:\n",
    "        if nums1[m-1] < nums2[n-1]:\n",
    "            nums1[last] = nums2[n-1]\n",
    "            n -= 1\n",
    "            \n",
    "        else:\n",
    "            nums1[last] = nums1[m-1]\n",
    "            m -=1\n",
    "            \n",
    "        last -= 1\n",
    "        \n",
    "    #dealing with the leftover elements in nums2 (if any)\n",
    "    \n",
    "    while n > 0:\n",
    "        nums1[last] = nums2[n-1]\n",
    "        n -= 1\n",
    "        last -= 1"
   ]
  },
  {
   "cell_type": "code",
   "execution_count": 16,
   "id": "789bf6be",
   "metadata": {},
   "outputs": [
    {
     "data": {
      "text/plain": [
       "[1, 2, 2, 3, 5, 6]"
      ]
     },
     "execution_count": 16,
     "metadata": {},
     "output_type": "execute_result"
    }
   ],
   "source": [
    "nums1 = [1,2,3,0,0,0]\n",
    "m = 3\n",
    "nums2 = [2,5,6]\n",
    "n = 3\n",
    "mergeSortedArray(nums1, m, nums2, n)"
   ]
  },
  {
   "cell_type": "code",
   "execution_count": null,
   "id": "9db17fe1",
   "metadata": {},
   "outputs": [],
   "source": []
  }
 ],
 "metadata": {
  "kernelspec": {
   "display_name": "Python 3 (ipykernel)",
   "language": "python",
   "name": "python3"
  },
  "language_info": {
   "codemirror_mode": {
    "name": "ipython",
    "version": 3
   },
   "file_extension": ".py",
   "mimetype": "text/x-python",
   "name": "python",
   "nbconvert_exporter": "python",
   "pygments_lexer": "ipython3",
   "version": "3.11.4"
  }
 },
 "nbformat": 4,
 "nbformat_minor": 5
}
