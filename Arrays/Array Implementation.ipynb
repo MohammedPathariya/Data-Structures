{
 "cells": [
  {
   "cell_type": "markdown",
   "id": "18f1abe9",
   "metadata": {},
   "source": [
    "# Static Array Implementation"
   ]
  },
  {
   "cell_type": "code",
   "execution_count": null,
   "id": "28d76272",
   "metadata": {},
   "outputs": [],
   "source": []
  },
  {
   "cell_type": "code",
   "execution_count": 16,
   "id": "b24df70c",
   "metadata": {},
   "outputs": [],
   "source": [
    "class StaticArray:\n",
    "    def __init__(self, capacity):\n",
    "        self.capacity = capacity          # fixed size\n",
    "        self.arr = [None] * capacity      # underlying storage\n",
    "        self.size = 0                     # current number of elements\n",
    "\n",
    "    def insert(self, value):\n",
    "        \"\"\"Insert at the end if space is available\"\"\"\n",
    "        if self.size >= self.capacity:\n",
    "            print(\"Error: Array is full\")\n",
    "            return\n",
    "        self.arr[self.size] = value\n",
    "        self.size += 1\n",
    "\n",
    "    def get(self, index):\n",
    "        \"\"\"Read element at given index\"\"\"\n",
    "        if 0 <= index < self.size:\n",
    "            return self.arr[index]\n",
    "        else:\n",
    "            raise IndexError(\"Invalid index\")\n",
    "\n",
    "    def update(self, index, value):\n",
    "        \"\"\"Update element at given index\"\"\"\n",
    "        if 0 <= index < self.size:\n",
    "            self.arr[index] = value\n",
    "        else:\n",
    "            raise IndexError(\"Invalid index\")\n",
    "\n",
    "    def delete(self, index):\n",
    "        \"\"\"Delete element and shift others left\"\"\"\n",
    "        if 0 <= index < self.size:\n",
    "            for i in range(index, self.size - 1):\n",
    "                self.arr[i] = self.arr[i + 1]\n",
    "            self.arr[self.size - 1] = None   # last slot empty\n",
    "            self.size -= 1\n",
    "        else:\n",
    "            raise IndexError(\"Invalid index\")\n",
    "\n",
    "    def display(self):\n",
    "        \"\"\"Print only valid elements\"\"\"\n",
    "        print([self.arr[i] for i in range(self.size)])"
   ]
  },
  {
   "cell_type": "code",
   "execution_count": 17,
   "id": "776c6cf3",
   "metadata": {},
   "outputs": [],
   "source": [
    "arr = StaticArray(5)"
   ]
  },
  {
   "cell_type": "code",
   "execution_count": 20,
   "id": "fbf21d2a",
   "metadata": {},
   "outputs": [
    {
     "name": "stdout",
     "output_type": "stream",
     "text": [
      "[]\n"
     ]
    }
   ],
   "source": [
    "arr.display()"
   ]
  },
  {
   "cell_type": "code",
   "execution_count": 21,
   "id": "50408aec",
   "metadata": {},
   "outputs": [],
   "source": [
    "arr.insert(10)"
   ]
  },
  {
   "cell_type": "code",
   "execution_count": 22,
   "id": "52129f54",
   "metadata": {},
   "outputs": [
    {
     "name": "stdout",
     "output_type": "stream",
     "text": [
      "[10]\n"
     ]
    }
   ],
   "source": [
    "arr.display()"
   ]
  },
  {
   "cell_type": "code",
   "execution_count": 24,
   "id": "9bf5c5d4",
   "metadata": {},
   "outputs": [],
   "source": [
    "arr.insert(20)\n",
    "arr.insert(30)"
   ]
  },
  {
   "cell_type": "code",
   "execution_count": 25,
   "id": "9fb2da1e",
   "metadata": {},
   "outputs": [
    {
     "name": "stdout",
     "output_type": "stream",
     "text": [
      "[10, 20, 30]\n"
     ]
    }
   ],
   "source": [
    "arr.display()"
   ]
  },
  {
   "cell_type": "code",
   "execution_count": 26,
   "id": "bc419718",
   "metadata": {},
   "outputs": [
    {
     "name": "stdout",
     "output_type": "stream",
     "text": [
      "20\n"
     ]
    }
   ],
   "source": [
    "print(arr.get(1))"
   ]
  },
  {
   "cell_type": "code",
   "execution_count": 27,
   "id": "1e68f9d1",
   "metadata": {},
   "outputs": [
    {
     "name": "stdout",
     "output_type": "stream",
     "text": [
      "[10, 25, 30]\n"
     ]
    }
   ],
   "source": [
    "arr.update(1, 25)\n",
    "arr.display()"
   ]
  },
  {
   "cell_type": "code",
   "execution_count": 28,
   "id": "15d1dd15",
   "metadata": {},
   "outputs": [
    {
     "name": "stdout",
     "output_type": "stream",
     "text": [
      "25\n"
     ]
    }
   ],
   "source": [
    "print(arr.get(1))"
   ]
  },
  {
   "cell_type": "code",
   "execution_count": 29,
   "id": "f4e28358",
   "metadata": {},
   "outputs": [
    {
     "name": "stdout",
     "output_type": "stream",
     "text": [
      "[25, 30]\n"
     ]
    }
   ],
   "source": [
    "arr.delete(0)\n",
    "arr.display()"
   ]
  },
  {
   "cell_type": "code",
   "execution_count": 30,
   "id": "2e3be0d0",
   "metadata": {},
   "outputs": [],
   "source": [
    "arr.insert(40)\n",
    "arr.insert(50)\n",
    "arr.insert(60)"
   ]
  },
  {
   "cell_type": "code",
   "execution_count": 31,
   "id": "fe1e7c2c",
   "metadata": {},
   "outputs": [
    {
     "name": "stdout",
     "output_type": "stream",
     "text": [
      "[25, 30, 40, 50, 60]\n"
     ]
    }
   ],
   "source": [
    "arr.display()"
   ]
  },
  {
   "cell_type": "code",
   "execution_count": 32,
   "id": "8a0f698d",
   "metadata": {},
   "outputs": [
    {
     "name": "stdout",
     "output_type": "stream",
     "text": [
      "Error: Array is full\n"
     ]
    }
   ],
   "source": [
    "arr.insert(70)"
   ]
  }
 ],
 "metadata": {
  "kernelspec": {
   "display_name": "Python 3 (ipykernel)",
   "language": "python",
   "name": "python3"
  },
  "language_info": {
   "codemirror_mode": {
    "name": "ipython",
    "version": 3
   },
   "file_extension": ".py",
   "mimetype": "text/x-python",
   "name": "python",
   "nbconvert_exporter": "python",
   "pygments_lexer": "ipython3",
   "version": "3.11.4"
  }
 },
 "nbformat": 4,
 "nbformat_minor": 5
}
