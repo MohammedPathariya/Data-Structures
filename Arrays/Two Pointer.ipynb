{
 "cells": [
  {
   "cell_type": "code",
   "execution_count": 2,
   "id": "f295db8c",
   "metadata": {},
   "outputs": [
    {
     "name": "stdout",
     "output_type": "stream",
     "text": [
      "[-5, 3, -2, 7, 10, -8]\n"
     ]
    }
   ],
   "source": [
    "A = [-5, 3, -2, 7, 10, -8]\n",
    "\n",
    "print(A)"
   ]
  },
  {
   "cell_type": "code",
   "execution_count": 24,
   "id": "c7e07584",
   "metadata": {},
   "outputs": [],
   "source": [
    "def two_pointer(arr):\n",
    "    arr.sort()\n",
    "    L = 0\n",
    "    R = len(arr) - 1\n",
    "    result = []\n",
    "    \n",
    "    while L <= R:\n",
    "        if abs(arr[L]) > abs(arr[R]):\n",
    "            result.append(arr[L])\n",
    "            L += 1\n",
    "            \n",
    "        else:\n",
    "            result.append(arr[R])\n",
    "            R -= 1\n",
    "            \n",
    "    result.reverse()\n",
    "    \n",
    "    return(result)"
   ]
  },
  {
   "cell_type": "code",
   "execution_count": 25,
   "id": "8f54b2d1",
   "metadata": {},
   "outputs": [
    {
     "data": {
      "text/plain": [
       "[-2, 3, -5, 7, -8, 10]"
      ]
     },
     "execution_count": 25,
     "metadata": {},
     "output_type": "execute_result"
    }
   ],
   "source": [
    "two_pointer(A)"
   ]
  },
  {
   "cell_type": "code",
   "execution_count": null,
   "id": "27a1f87a",
   "metadata": {},
   "outputs": [],
   "source": []
  }
 ],
 "metadata": {
  "kernelspec": {
   "display_name": "Python 3 (ipykernel)",
   "language": "python",
   "name": "python3"
  },
  "language_info": {
   "codemirror_mode": {
    "name": "ipython",
    "version": 3
   },
   "file_extension": ".py",
   "mimetype": "text/x-python",
   "name": "python",
   "nbconvert_exporter": "python",
   "pygments_lexer": "ipython3",
   "version": "3.11.4"
  }
 },
 "nbformat": 4,
 "nbformat_minor": 5
}
