{
 "cells": [
  {
   "cell_type": "code",
   "execution_count": 6,
   "id": "8698c9db",
   "metadata": {},
   "outputs": [
    {
     "name": "stdout",
     "output_type": "stream",
     "text": [
      "True\n"
     ]
    }
   ],
   "source": [
    "A = [-5,-4,-3,-2,-1,0,1,2,3,4,5]\n",
    "\n",
    "# Naive O(n) searching\n",
    "\n",
    "if 5 in A:\n",
    "    print(True)"
   ]
  },
  {
   "cell_type": "markdown",
   "id": "46969199",
   "metadata": {},
   "source": [
    "Here, it recursively loops through the entire dataset (array) and tries to match the value with the target value, this will have O(n) time complexity as in the worst case, there is a possibility that the target value is in the end of the array, there by taking n iterations to reach there"
   ]
  },
  {
   "cell_type": "code",
   "execution_count": 8,
   "id": "d5ec89ca",
   "metadata": {},
   "outputs": [],
   "source": [
    "# Traditional Binary Search\n",
    "# Time Complexity -> O(log n)\n",
    "# Space Complexity -> O(1)\n",
    "\n",
    "def binary_search(arr, target):\n",
    "    N = len(arr)\n",
    "    L = 0\n",
    "    R = N - 1\n",
    "    \n",
    "    while L <= R:\n",
    "        \n",
    "        M = L + ((R - L )//2)\n",
    "        \n",
    "        if arr[M] == target:\n",
    "            return (True)\n",
    "        \n",
    "        elif target < arr[M]:\n",
    "            R = M - 1\n",
    "            \n",
    "        else:\n",
    "            L = M + 1\n",
    "    \n",
    "    return (False)"
   ]
  },
  {
   "cell_type": "code",
   "execution_count": 10,
   "id": "8345457d",
   "metadata": {},
   "outputs": [
    {
     "data": {
      "text/plain": [
       "False"
      ]
     },
     "execution_count": 10,
     "metadata": {},
     "output_type": "execute_result"
    }
   ],
   "source": [
    "binary_search(A, 10)"
   ]
  },
  {
   "cell_type": "markdown",
   "id": "61bdc7fe",
   "metadata": {},
   "source": [
    "Here, we are using the logic that, as the array is sorted, we can in theory, look up the middle number itself, and then based on the middle number, if the target value to find is less, we can then eliminate the right side of the array directly, and just focus on the left side. \n",
    "\n",
    "Basic Steps:\n",
    "finding the middle point, comparing it to the target value, then eleminating one half of the array, repeating the first step.\n",
    "\n",
    "Also, two important things:\n",
    "\n",
    "Firstly, the array must be sorted in ascending order for this to work\n",
    "\n",
    "Secondly, look at the Middile Point formula: Basic one -> M = (L + R) // 2, (The floor division operator // is used here so as to tackle the problem of even numbered arrays, they will return the middle point in .5 increments, so we choose the closest smaller whole number. i.e it rounds the answer down).\n",
    "Advanced Formula -> M = L + ((R-L) // 2). Same principle, but rwitten in this way to avoid integer overflow. This is a case when the two numbers (L,R) are too big themselves, and then we do some addition or multiplication operations on them, increasing the mumber further. So using the advance formula is the best practice."
   ]
  }
 ],
 "metadata": {
  "kernelspec": {
   "display_name": "Python 3 (ipykernel)",
   "language": "python",
   "name": "python3"
  },
  "language_info": {
   "codemirror_mode": {
    "name": "ipython",
    "version": 3
   },
   "file_extension": ".py",
   "mimetype": "text/x-python",
   "name": "python",
   "nbconvert_exporter": "python",
   "pygments_lexer": "ipython3",
   "version": "3.11.4"
  }
 },
 "nbformat": 4,
 "nbformat_minor": 5
}
