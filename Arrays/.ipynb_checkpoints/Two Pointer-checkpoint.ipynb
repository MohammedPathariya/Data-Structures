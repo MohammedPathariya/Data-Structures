{
 "cells": [
  {
   "cell_type": "markdown",
   "id": "31eca84a",
   "metadata": {},
   "source": [
    "## Example 1\n",
    "\n",
    "👉 Given a sorted array of integers (which may include negatives), return a new array containing the squares of each number, sorted in non-decreasing order.\n",
    "\n",
    "Example:\n",
    "Input: [-8, -5, -2, 3, 7, 10]\n",
    "Output: [4, 9, 25, 49, 64, 100]\n",
    "\n",
    "\n",
    "\n",
    "⚡ Why this is tricky:\n",
    "\n",
    "Squaring breaks the order — negative numbers become positive and may “jump ahead” of originally positive numbers.\n",
    "\n",
    "For example: -8 < 7, but (-8)² = 64 > 7² = 49.\n",
    "\n",
    "So the task is: sort squares efficiently."
   ]
  },
  {
   "cell_type": "code",
   "execution_count": 2,
   "id": "d1e5a5c4",
   "metadata": {},
   "outputs": [
    {
     "name": "stdout",
     "output_type": "stream",
     "text": [
      "[-5, 3, -2, 7, 10, -8]\n"
     ]
    }
   ],
   "source": [
    "A = [-5, 3, -2, 7, 10, -8]\n",
    "\n",
    "print(A)"
   ]
  },
  {
   "cell_type": "markdown",
   "id": "ef1ae99d",
   "metadata": {},
   "source": [
    "### Brute Force"
   ]
  },
  {
   "cell_type": "code",
   "execution_count": 3,
   "id": "2cf1e122",
   "metadata": {},
   "outputs": [],
   "source": [
    "def brute_force(arr):\n",
    "    result = [x**2 for x in arr]\n",
    "    result.sort()\n",
    "    return result"
   ]
  },
  {
   "cell_type": "code",
   "execution_count": 4,
   "id": "aa680bd8",
   "metadata": {},
   "outputs": [
    {
     "data": {
      "text/plain": [
       "[4, 9, 25, 49, 64, 100]"
      ]
     },
     "execution_count": 4,
     "metadata": {},
     "output_type": "execute_result"
    }
   ],
   "source": [
    "brute_force(A)"
   ]
  },
  {
   "cell_type": "markdown",
   "id": "0e65788e",
   "metadata": {},
   "source": [
    "Time Complexity:\n",
    "\n",
    "Squaring all elements: O(N)\n",
    "\n",
    "Sorting the array: O(N log N)\n",
    "\n",
    "Total = O(N log N)"
   ]
  },
  {
   "cell_type": "code",
   "execution_count": null,
   "id": "ee6632a6",
   "metadata": {},
   "outputs": [],
   "source": []
  },
  {
   "cell_type": "markdown",
   "id": "f3295a1e",
   "metadata": {},
   "source": [
    "### Optimal Two-Pointer Approach:\n",
    "\n",
    "Sort the input array (if not already sorted).\n",
    "\n",
    "Place two pointers:\n",
    "\n",
    "L at start (largest negative, i.e., big after squaring).\n",
    "\n",
    "R at end (largest positive).\n",
    "\n",
    "Compare absolute values:\n",
    "\n",
    "The bigger square goes at the end of result.\n",
    "\n",
    "Move the pointer accordingly (L++ or R--).\n",
    "\n",
    "Build the result array in reverse, then flip it.\n",
    "\n",
    "This achieves O(N) time because we only walk through the array once."
   ]
  },
  {
   "cell_type": "code",
   "execution_count": 5,
   "id": "667eaad3",
   "metadata": {},
   "outputs": [],
   "source": [
    "def two_pointer(arr):\n",
    "    arr.sort()\n",
    "    L = 0\n",
    "    R = len(arr) - 1\n",
    "    result = []\n",
    "    \n",
    "    while L <= R:\n",
    "        if abs(arr[L]) > abs(arr[R]):\n",
    "            result.append(arr[L] ** 2)\n",
    "            L += 1\n",
    "        else:\n",
    "            result.append(arr[R] ** 2)\n",
    "            R -= 1\n",
    "\n",
    "    result.reverse()\n",
    "    \n",
    "    return(result)"
   ]
  },
  {
   "cell_type": "code",
   "execution_count": 6,
   "id": "2558bb8b",
   "metadata": {},
   "outputs": [
    {
     "data": {
      "text/plain": [
       "[4, 9, 25, 49, 64, 100]"
      ]
     },
     "execution_count": 6,
     "metadata": {},
     "output_type": "execute_result"
    }
   ],
   "source": [
    "two_pointer(A)"
   ]
  },
  {
   "cell_type": "markdown",
   "id": "112227e8",
   "metadata": {},
   "source": [
    "Brute Force: Square all → sort result → O(N log N).\n",
    "\n",
    "Two Pointers: Exploit sorted input, compare ends → O(N)."
   ]
  },
  {
   "cell_type": "code",
   "execution_count": null,
   "id": "5c78cc6d",
   "metadata": {},
   "outputs": [],
   "source": []
  },
  {
   "cell_type": "markdown",
   "id": "df73c275",
   "metadata": {},
   "source": [
    "## Example 2\n",
    "\n",
    "👉 Given a sorted array of integers and a target sum, find if there exists a pair of numbers whose sum equals the target.\n",
    "\n",
    "Example:\n",
    "Input: arr = [1,2,3,4,5,6,7,8,9,10], target = 10\n",
    "Output: (1, 9) ✅"
   ]
  },
  {
   "cell_type": "code",
   "execution_count": 8,
   "id": "895266a7",
   "metadata": {},
   "outputs": [
    {
     "name": "stdout",
     "output_type": "stream",
     "text": [
      "[1, 2, 3, 4, 5, 6, 7, 8, 9, 10]\n"
     ]
    }
   ],
   "source": [
    "B = [1,2,3,4,5,6,7,8,9,10]\n",
    "\n",
    "print(B)"
   ]
  },
  {
   "cell_type": "markdown",
   "id": "f56ac127",
   "metadata": {},
   "source": [
    "### Brute Force"
   ]
  },
  {
   "cell_type": "code",
   "execution_count": 9,
   "id": "129f803e",
   "metadata": {},
   "outputs": [],
   "source": [
    "def two_sum_bruteforce(arr, target):\n",
    "    N = len(arr)\n",
    "    for i in range(N):\n",
    "        for j in range(i+1, N):   # check every pair (i, j)\n",
    "            if arr[i] + arr[j] == target:\n",
    "                return arr[i], arr[j]\n",
    "    return False"
   ]
  },
  {
   "cell_type": "code",
   "execution_count": 11,
   "id": "5ac7b1bb",
   "metadata": {},
   "outputs": [
    {
     "name": "stdout",
     "output_type": "stream",
     "text": [
      "(1, 9)\n"
     ]
    }
   ],
   "source": [
    "print(two_sum_bruteforce(B, 10))"
   ]
  },
  {
   "cell_type": "markdown",
   "id": "0abf395d",
   "metadata": {},
   "source": [
    "Time: O(N²) (two nested loops).\n",
    "\n",
    "Space: O(1)."
   ]
  },
  {
   "cell_type": "code",
   "execution_count": null,
   "id": "0901d458",
   "metadata": {},
   "outputs": [],
   "source": []
  },
  {
   "cell_type": "markdown",
   "id": "266918f5",
   "metadata": {},
   "source": [
    "### Optimal Two-Pointer Approach\n",
    "\n",
    "Place two pointers:\n",
    "\n",
    "L at the start (smallest element).\n",
    "\n",
    "R at the end (largest element).\n",
    "\n",
    "Compute current_sum = arr[L] + arr[R].\n",
    "\n",
    "If current_sum == target → ✅ found pair.\n",
    "\n",
    "If current_sum < target → move L forward (need bigger sum).\n",
    "\n",
    "If current_sum > target → move R backward (need smaller sum).\n",
    "\n",
    "Repeat until L < R.\n",
    "\n",
    "Time Complexity: O(N)\n",
    "Space Complexity: O(1)"
   ]
  },
  {
   "cell_type": "code",
   "execution_count": 12,
   "id": "a50a81dc",
   "metadata": {},
   "outputs": [],
   "source": [
    "def two_sum(arr, target):\n",
    "    L = 0\n",
    "    R = len(arr) - 1\n",
    "    \n",
    "    while L < R:\n",
    "        current_sum = arr[L] + arr[R]\n",
    "        \n",
    "        if current_sum == target:\n",
    "            return arr[L], arr[R]\n",
    "        \n",
    "        elif current_sum < target:\n",
    "            L += 1\n",
    "            \n",
    "        else:\n",
    "            R -= 1\n",
    "            \n",
    "    return False"
   ]
  },
  {
   "cell_type": "code",
   "execution_count": 13,
   "id": "1faf729f",
   "metadata": {},
   "outputs": [
    {
     "data": {
      "text/plain": [
       "(1, 9)"
      ]
     },
     "execution_count": 13,
     "metadata": {},
     "output_type": "execute_result"
    }
   ],
   "source": [
    "two_sum(B, 10)"
   ]
  }
 ],
 "metadata": {
  "kernelspec": {
   "display_name": "Python 3 (ipykernel)",
   "language": "python",
   "name": "python3"
  },
  "language_info": {
   "codemirror_mode": {
    "name": "ipython",
    "version": 3
   },
   "file_extension": ".py",
   "mimetype": "text/x-python",
   "name": "python",
   "nbconvert_exporter": "python",
   "pygments_lexer": "ipython3",
   "version": "3.11.4"
  }
 },
 "nbformat": 4,
 "nbformat_minor": 5
}
