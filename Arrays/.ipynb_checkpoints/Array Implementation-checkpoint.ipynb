{
 "cells": [
  {
   "cell_type": "markdown",
   "id": "18f1abe9",
   "metadata": {},
   "source": [
    "# Static Array Implementation"
   ]
  },
  {
   "cell_type": "code",
   "execution_count": 1,
   "id": "b24df70c",
   "metadata": {},
   "outputs": [],
   "source": [
    "class StaticArray:\n",
    "    def __init__(self, capacity):\n",
    "        self.capacity = capacity          # fixed size\n",
    "        self.arr = [None] * capacity      # underlying storage\n",
    "        self.size = 0                     # current number of elements\n",
    "\n",
    "    def insert(self, value):\n",
    "        \"\"\"Insert at the end if space is available\"\"\"\n",
    "        if self.size >= self.capacity:\n",
    "            print(\"Error: Array is full\")\n",
    "            return\n",
    "        self.arr[self.size] = value\n",
    "        self.size += 1\n",
    "\n",
    "    def get(self, index):\n",
    "        \"\"\"Read element at given index\"\"\"\n",
    "        if 0 <= index < self.size:\n",
    "            return self.arr[index]\n",
    "        else:\n",
    "            raise IndexError(\"Invalid index\")\n",
    "\n",
    "    def update(self, index, value):\n",
    "        \"\"\"Update element at given index\"\"\"\n",
    "        if 0 <= index < self.size:\n",
    "            self.arr[index] = value\n",
    "        else:\n",
    "            raise IndexError(\"Invalid index\")\n",
    "\n",
    "    def delete(self, index):\n",
    "        \"\"\"Delete element and shift others left\"\"\"\n",
    "        if 0 <= index < self.size:\n",
    "            for i in range(index, self.size - 1):\n",
    "                self.arr[i] = self.arr[i + 1]\n",
    "            self.arr[self.size - 1] = None   # last slot empty\n",
    "            self.size -= 1\n",
    "        else:\n",
    "            raise IndexError(\"Invalid index\")\n",
    "\n",
    "    def display(self):\n",
    "        \"\"\"Print only valid elements\"\"\"\n",
    "        print([self.arr[i] for i in range(self.size)])"
   ]
  },
  {
   "cell_type": "code",
   "execution_count": 2,
   "id": "776c6cf3",
   "metadata": {},
   "outputs": [
    {
     "name": "stdout",
     "output_type": "stream",
     "text": [
      "[]\n"
     ]
    }
   ],
   "source": [
    "arr = StaticArray(5)\n",
    "\n",
    "arr.display()"
   ]
  },
  {
   "cell_type": "code",
   "execution_count": 3,
   "id": "50408aec",
   "metadata": {},
   "outputs": [
    {
     "name": "stdout",
     "output_type": "stream",
     "text": [
      "[10]\n"
     ]
    }
   ],
   "source": [
    "arr.insert(10)\n",
    "\n",
    "arr.display()"
   ]
  },
  {
   "cell_type": "code",
   "execution_count": 4,
   "id": "9bf5c5d4",
   "metadata": {},
   "outputs": [
    {
     "name": "stdout",
     "output_type": "stream",
     "text": [
      "[10, 20, 30]\n"
     ]
    }
   ],
   "source": [
    "arr.insert(20)\n",
    "arr.insert(30)\n",
    "\n",
    "arr.display()"
   ]
  },
  {
   "cell_type": "code",
   "execution_count": 5,
   "id": "bc419718",
   "metadata": {},
   "outputs": [
    {
     "name": "stdout",
     "output_type": "stream",
     "text": [
      "20\n"
     ]
    }
   ],
   "source": [
    "print(arr.get(1))"
   ]
  },
  {
   "cell_type": "code",
   "execution_count": 6,
   "id": "1e68f9d1",
   "metadata": {},
   "outputs": [
    {
     "name": "stdout",
     "output_type": "stream",
     "text": [
      "[10, 25, 30]\n"
     ]
    }
   ],
   "source": [
    "arr.update(1, 25)\n",
    "arr.display()"
   ]
  },
  {
   "cell_type": "code",
   "execution_count": 7,
   "id": "15d1dd15",
   "metadata": {},
   "outputs": [
    {
     "name": "stdout",
     "output_type": "stream",
     "text": [
      "25\n"
     ]
    }
   ],
   "source": [
    "print(arr.get(1))"
   ]
  },
  {
   "cell_type": "code",
   "execution_count": 8,
   "id": "f4e28358",
   "metadata": {},
   "outputs": [
    {
     "name": "stdout",
     "output_type": "stream",
     "text": [
      "[25, 30]\n"
     ]
    }
   ],
   "source": [
    "arr.delete(0)\n",
    "arr.display()"
   ]
  },
  {
   "cell_type": "code",
   "execution_count": 9,
   "id": "2e3be0d0",
   "metadata": {},
   "outputs": [
    {
     "name": "stdout",
     "output_type": "stream",
     "text": [
      "[25, 30, 40, 50, 60]\n"
     ]
    }
   ],
   "source": [
    "arr.insert(40)\n",
    "arr.insert(50)\n",
    "arr.insert(60)\n",
    "\n",
    "arr.display()"
   ]
  },
  {
   "cell_type": "code",
   "execution_count": 10,
   "id": "fe1e7c2c",
   "metadata": {},
   "outputs": [
    {
     "name": "stdout",
     "output_type": "stream",
     "text": [
      "Error: Array is full\n"
     ]
    }
   ],
   "source": [
    "arr.insert(70)"
   ]
  },
  {
   "cell_type": "code",
   "execution_count": null,
   "id": "8a0f698d",
   "metadata": {},
   "outputs": [],
   "source": []
  },
  {
   "cell_type": "code",
   "execution_count": null,
   "id": "675dd731",
   "metadata": {},
   "outputs": [],
   "source": []
  },
  {
   "cell_type": "code",
   "execution_count": null,
   "id": "d84f46a3",
   "metadata": {},
   "outputs": [],
   "source": []
  },
  {
   "cell_type": "code",
   "execution_count": null,
   "id": "a5bad874",
   "metadata": {},
   "outputs": [],
   "source": []
  },
  {
   "cell_type": "code",
   "execution_count": null,
   "id": "ff69a1e1",
   "metadata": {},
   "outputs": [],
   "source": []
  },
  {
   "cell_type": "code",
   "execution_count": null,
   "id": "a73e0583",
   "metadata": {},
   "outputs": [],
   "source": []
  },
  {
   "cell_type": "markdown",
   "id": "bb71465a",
   "metadata": {},
   "source": [
    "# Dynamic Array Implementation"
   ]
  },
  {
   "cell_type": "code",
   "execution_count": 11,
   "id": "0332fe1d",
   "metadata": {},
   "outputs": [],
   "source": [
    "class DynamicArray:\n",
    "    def __init__(self):\n",
    "        self.capacity = 2                 # start small\n",
    "        self.size = 0\n",
    "        self.arr = [None] * self.capacity\n",
    "\n",
    "    def _resize(self, new_capacity):\n",
    "        \"\"\"Resize the underlying array to new_capacity\"\"\"\n",
    "        new_arr = [None] * new_capacity\n",
    "        for i in range(self.size):\n",
    "            new_arr[i] = self.arr[i]\n",
    "        self.arr = new_arr\n",
    "        self.capacity = new_capacity\n",
    "\n",
    "    def append(self, value):\n",
    "        \"\"\"Insert at end, resize if needed\"\"\"\n",
    "        if self.size == self.capacity:\n",
    "            self._resize(self.capacity * 2)   # double capacity\n",
    "        self.arr[self.size] = value\n",
    "        self.size += 1\n",
    "\n",
    "    def get(self, index):\n",
    "        \"\"\"Access element at index\"\"\"\n",
    "        if 0 <= index < self.size:\n",
    "            return self.arr[index]\n",
    "        else:\n",
    "            raise IndexError(\"Invalid index\")\n",
    "\n",
    "    def update(self, index, value):\n",
    "        \"\"\"Update element at index\"\"\"\n",
    "        if 0 <= index < self.size:\n",
    "            self.arr[index] = value\n",
    "        else:\n",
    "            raise IndexError(\"Invalid index\")\n",
    "\n",
    "    def delete(self, index):\n",
    "        \"\"\"Delete element at index and shift\"\"\"\n",
    "        if 0 <= index < self.size:\n",
    "            for i in range(index, self.size - 1):\n",
    "                self.arr[i] = self.arr[i + 1]\n",
    "            self.arr[self.size - 1] = None\n",
    "            self.size -= 1\n",
    "\n",
    "            # Optional: shrink array if usage is too low\n",
    "            if 0 < self.size < self.capacity // 4:\n",
    "                self._resize(self.capacity // 2)\n",
    "        else:\n",
    "            raise IndexError(\"Invalid index\")\n",
    "\n",
    "    def display(self):\n",
    "        \"\"\"Print only valid elements\"\"\"\n",
    "        print([self.arr[i] for i in range(self.size)])"
   ]
  },
  {
   "cell_type": "code",
   "execution_count": 12,
   "id": "21eca614",
   "metadata": {},
   "outputs": [
    {
     "name": "stdout",
     "output_type": "stream",
     "text": [
      "Size: 1, Capacity: 2, Contents: [0]\n",
      "Size: 2, Capacity: 2, Contents: [0, 1]\n",
      "Size: 3, Capacity: 4, Contents: [0, 1, 2]\n",
      "Size: 4, Capacity: 4, Contents: [0, 1, 2, 3]\n",
      "Size: 5, Capacity: 8, Contents: [0, 1, 2, 3, 4]\n",
      "Size: 6, Capacity: 8, Contents: [0, 1, 2, 3, 4, 5]\n",
      "Size: 7, Capacity: 8, Contents: [0, 1, 2, 3, 4, 5, 6]\n",
      "Size: 8, Capacity: 8, Contents: [0, 1, 2, 3, 4, 5, 6, 7]\n",
      "Size: 9, Capacity: 16, Contents: [0, 1, 2, 3, 4, 5, 6, 7, 8]\n",
      "Size: 10, Capacity: 16, Contents: [0, 1, 2, 3, 4, 5, 6, 7, 8, 9]\n"
     ]
    }
   ],
   "source": [
    "arr = DynamicArray()\n",
    "\n",
    "# Append elements (watch capacity grow)\n",
    "for i in range(10):\n",
    "    arr.append(i)\n",
    "    print(f\"Size: {arr.size}, Capacity: {arr.capacity}, Contents:\", end=\" \")\n",
    "    arr.display()"
   ]
  },
  {
   "cell_type": "code",
   "execution_count": 13,
   "id": "f9a48b0a",
   "metadata": {},
   "outputs": [
    {
     "name": "stdout",
     "output_type": "stream",
     "text": [
      "Element at index 3: 3\n"
     ]
    }
   ],
   "source": [
    "# Access\n",
    "print(\"Element at index 3:\", arr.get(3))"
   ]
  },
  {
   "cell_type": "code",
   "execution_count": 14,
   "id": "708e1911",
   "metadata": {},
   "outputs": [
    {
     "name": "stdout",
     "output_type": "stream",
     "text": [
      "[0, 1, 2, 99, 4, 5, 6, 7, 8, 9]\n"
     ]
    }
   ],
   "source": [
    "# Update\n",
    "arr.update(3, 99)\n",
    "arr.display()"
   ]
  },
  {
   "cell_type": "code",
   "execution_count": 15,
   "id": "022b7918",
   "metadata": {},
   "outputs": [
    {
     "name": "stdout",
     "output_type": "stream",
     "text": [
      "[0, 1, 2, 99, 4, 6, 7, 8, 9]\n"
     ]
    }
   ],
   "source": [
    "# Delete\n",
    "arr.delete(5)\n",
    "arr.display()"
   ]
  },
  {
   "cell_type": "code",
   "execution_count": null,
   "id": "ffe2078a",
   "metadata": {},
   "outputs": [],
   "source": []
  },
  {
   "cell_type": "code",
   "execution_count": null,
   "id": "a7a3a966",
   "metadata": {},
   "outputs": [],
   "source": []
  },
  {
   "cell_type": "code",
   "execution_count": null,
   "id": "fb6c4050",
   "metadata": {},
   "outputs": [],
   "source": []
  },
  {
   "cell_type": "markdown",
   "id": "4c2d3a44",
   "metadata": {},
   "source": [
    "## Dynamic Array using Pythons Built in List Functions"
   ]
  },
  {
   "cell_type": "code",
   "execution_count": 16,
   "id": "e2539d1b",
   "metadata": {},
   "outputs": [],
   "source": [
    "class DynamicArray:\n",
    "    def __init__(self):\n",
    "        self.arr = []   # start with empty list\n",
    "\n",
    "    def append(self, value):\n",
    "        \"\"\"Insert at end\"\"\"\n",
    "        self.arr.append(value)\n",
    "\n",
    "    def insert(self, index, value):\n",
    "        \"\"\"Insert at index (shifts elements to the right)\"\"\"\n",
    "        self.arr.insert(index, value)\n",
    "\n",
    "    def get(self, index):\n",
    "        \"\"\"Access element\"\"\"\n",
    "        return self.arr[index]\n",
    "\n",
    "    def update(self, index, value):\n",
    "        \"\"\"Update element\"\"\"\n",
    "        self.arr[index] = value\n",
    "\n",
    "    def delete(self, index):\n",
    "        \"\"\"Delete element at index\"\"\"\n",
    "        self.arr.pop(index)\n",
    "\n",
    "    def display(self):\n",
    "        \"\"\"Show all elements\"\"\"\n",
    "        print(self.arr)"
   ]
  },
  {
   "cell_type": "code",
   "execution_count": null,
   "id": "9da819eb",
   "metadata": {},
   "outputs": [],
   "source": []
  },
  {
   "cell_type": "code",
   "execution_count": null,
   "id": "5dccf5d6",
   "metadata": {},
   "outputs": [],
   "source": []
  },
  {
   "cell_type": "code",
   "execution_count": null,
   "id": "2a3c6db0",
   "metadata": {},
   "outputs": [],
   "source": []
  },
  {
   "cell_type": "code",
   "execution_count": null,
   "id": "c2d2aa9f",
   "metadata": {},
   "outputs": [],
   "source": []
  },
  {
   "cell_type": "code",
   "execution_count": null,
   "id": "8f7cdfaa",
   "metadata": {},
   "outputs": [],
   "source": []
  },
  {
   "cell_type": "code",
   "execution_count": null,
   "id": "9eac8739",
   "metadata": {},
   "outputs": [],
   "source": []
  },
  {
   "cell_type": "code",
   "execution_count": 17,
   "id": "ec99edae",
   "metadata": {},
   "outputs": [],
   "source": [
    "arr = []"
   ]
  },
  {
   "cell_type": "code",
   "execution_count": 18,
   "id": "22a90f3f",
   "metadata": {},
   "outputs": [
    {
     "name": "stdout",
     "output_type": "stream",
     "text": [
      "[1]\n"
     ]
    }
   ],
   "source": [
    "arr.append(1)\n",
    "\n",
    "print(arr)"
   ]
  },
  {
   "cell_type": "code",
   "execution_count": null,
   "id": "d8ec1aa5",
   "metadata": {},
   "outputs": [],
   "source": []
  },
  {
   "cell_type": "code",
   "execution_count": 19,
   "id": "ac54e8f5",
   "metadata": {},
   "outputs": [
    {
     "name": "stdout",
     "output_type": "stream",
     "text": [
      "[7, 1]\n"
     ]
    }
   ],
   "source": [
    "arr.insert(0, 7)\n",
    "\n",
    "print(arr)"
   ]
  },
  {
   "cell_type": "code",
   "execution_count": 20,
   "id": "c05efc22",
   "metadata": {},
   "outputs": [
    {
     "data": {
      "text/plain": [
       "1"
      ]
     },
     "execution_count": 20,
     "metadata": {},
     "output_type": "execute_result"
    }
   ],
   "source": [
    "arr[1]"
   ]
  },
  {
   "cell_type": "code",
   "execution_count": 21,
   "id": "25feccef",
   "metadata": {},
   "outputs": [
    {
     "name": "stdout",
     "output_type": "stream",
     "text": [
      "[0, 1]\n"
     ]
    }
   ],
   "source": [
    "arr[0] = 0\n",
    "\n",
    "print(arr)"
   ]
  },
  {
   "cell_type": "code",
   "execution_count": 22,
   "id": "d25194a1",
   "metadata": {},
   "outputs": [
    {
     "name": "stdout",
     "output_type": "stream",
     "text": [
      "[0]\n"
     ]
    }
   ],
   "source": [
    "arr.pop(1)\n",
    "\n",
    "print(arr)"
   ]
  }
 ],
 "metadata": {
  "kernelspec": {
   "display_name": "Python 3 (ipykernel)",
   "language": "python",
   "name": "python3"
  },
  "language_info": {
   "codemirror_mode": {
    "name": "ipython",
    "version": 3
   },
   "file_extension": ".py",
   "mimetype": "text/x-python",
   "name": "python",
   "nbconvert_exporter": "python",
   "pygments_lexer": "ipython3",
   "version": "3.11.4"
  }
 },
 "nbformat": 4,
 "nbformat_minor": 5
}
