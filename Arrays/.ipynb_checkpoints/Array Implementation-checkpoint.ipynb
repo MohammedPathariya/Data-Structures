{
 "cells": [
  {
   "cell_type": "code",
   "execution_count": null,
   "id": "dcc005b6",
   "metadata": {},
   "outputs": [],
   "source": []
  },
  {
   "cell_type": "code",
   "execution_count": null,
   "id": "fe1e1320",
   "metadata": {},
   "outputs": [],
   "source": []
  },
  {
   "cell_type": "markdown",
   "id": "18f1abe9",
   "metadata": {},
   "source": [
    "# Static Array Implementation"
   ]
  },
  {
   "cell_type": "code",
   "execution_count": 1,
   "id": "b24df70c",
   "metadata": {},
   "outputs": [],
   "source": [
    "class StaticArray:\n",
    "    def __init__(self, capacity):\n",
    "        self.capacity = capacity          # fixed size\n",
    "        self.arr = [None] * capacity      # underlying storage\n",
    "        self.size = 0                     # current number of elements\n",
    "\n",
    "    def insert(self, value):\n",
    "        \"\"\"Insert at the end if space is available\"\"\"\n",
    "        if self.size >= self.capacity:\n",
    "            print(\"Error: Array is full\")\n",
    "            return\n",
    "        self.arr[self.size] = value\n",
    "        self.size += 1\n",
    "\n",
    "    def get(self, index):\n",
    "        \"\"\"Read element at given index\"\"\"\n",
    "        if 0 <= index < self.size:\n",
    "            return self.arr[index]\n",
    "        else:\n",
    "            raise IndexError(\"Invalid index\")\n",
    "\n",
    "    def update(self, index, value):\n",
    "        \"\"\"Update element at given index\"\"\"\n",
    "        if 0 <= index < self.size:\n",
    "            self.arr[index] = value\n",
    "        else:\n",
    "            raise IndexError(\"Invalid index\")\n",
    "\n",
    "    def delete(self, index):\n",
    "        \"\"\"Delete element and shift others left\"\"\"\n",
    "        if 0 <= index < self.size:\n",
    "            for i in range(index, self.size - 1):\n",
    "                self.arr[i] = self.arr[i + 1]\n",
    "            self.arr[self.size - 1] = None   # last slot empty\n",
    "            self.size -= 1\n",
    "        else:\n",
    "            raise IndexError(\"Invalid index\")\n",
    "\n",
    "    def display(self):\n",
    "        \"\"\"Print only valid elements\"\"\"\n",
    "        print([self.arr[i] for i in range(self.size)])"
   ]
  },
  {
   "cell_type": "code",
   "execution_count": 2,
   "id": "776c6cf3",
   "metadata": {},
   "outputs": [
    {
     "name": "stdout",
     "output_type": "stream",
     "text": [
      "[]\n"
     ]
    }
   ],
   "source": [
    "arr = StaticArray(5)\n",
    "\n",
    "arr.display()"
   ]
  },
  {
   "cell_type": "code",
   "execution_count": 3,
   "id": "50408aec",
   "metadata": {},
   "outputs": [
    {
     "name": "stdout",
     "output_type": "stream",
     "text": [
      "[10]\n"
     ]
    }
   ],
   "source": [
    "arr.insert(10)\n",
    "\n",
    "arr.display()"
   ]
  },
  {
   "cell_type": "code",
   "execution_count": 4,
   "id": "9bf5c5d4",
   "metadata": {},
   "outputs": [
    {
     "name": "stdout",
     "output_type": "stream",
     "text": [
      "[10, 20, 30]\n"
     ]
    }
   ],
   "source": [
    "arr.insert(20)\n",
    "arr.insert(30)\n",
    "\n",
    "arr.display()"
   ]
  },
  {
   "cell_type": "code",
   "execution_count": 5,
   "id": "bc419718",
   "metadata": {},
   "outputs": [
    {
     "name": "stdout",
     "output_type": "stream",
     "text": [
      "20\n"
     ]
    }
   ],
   "source": [
    "print(arr.get(1))"
   ]
  },
  {
   "cell_type": "code",
   "execution_count": 6,
   "id": "1e68f9d1",
   "metadata": {},
   "outputs": [
    {
     "name": "stdout",
     "output_type": "stream",
     "text": [
      "[10, 25, 30]\n"
     ]
    }
   ],
   "source": [
    "arr.update(1, 25)\n",
    "arr.display()"
   ]
  },
  {
   "cell_type": "code",
   "execution_count": 7,
   "id": "15d1dd15",
   "metadata": {},
   "outputs": [
    {
     "name": "stdout",
     "output_type": "stream",
     "text": [
      "25\n"
     ]
    }
   ],
   "source": [
    "print(arr.get(1))"
   ]
  },
  {
   "cell_type": "code",
   "execution_count": 8,
   "id": "f4e28358",
   "metadata": {},
   "outputs": [
    {
     "name": "stdout",
     "output_type": "stream",
     "text": [
      "[25, 30]\n"
     ]
    }
   ],
   "source": [
    "arr.delete(0)\n",
    "arr.display()"
   ]
  },
  {
   "cell_type": "code",
   "execution_count": 9,
   "id": "2e3be0d0",
   "metadata": {},
   "outputs": [
    {
     "name": "stdout",
     "output_type": "stream",
     "text": [
      "[25, 30, 40, 50, 60]\n"
     ]
    }
   ],
   "source": [
    "arr.insert(40)\n",
    "arr.insert(50)\n",
    "arr.insert(60)\n",
    "\n",
    "arr.display()"
   ]
  },
  {
   "cell_type": "code",
   "execution_count": 10,
   "id": "fe1e7c2c",
   "metadata": {},
   "outputs": [
    {
     "name": "stdout",
     "output_type": "stream",
     "text": [
      "Error: Array is full\n"
     ]
    }
   ],
   "source": [
    "arr.insert(70)"
   ]
  },
  {
   "cell_type": "code",
   "execution_count": null,
   "id": "8a0f698d",
   "metadata": {},
   "outputs": [],
   "source": []
  },
  {
   "cell_type": "code",
   "execution_count": null,
   "id": "ac76d239",
   "metadata": {},
   "outputs": [],
   "source": []
  },
  {
   "cell_type": "code",
   "execution_count": null,
   "id": "30fe1322",
   "metadata": {},
   "outputs": [],
   "source": []
  },
  {
   "cell_type": "code",
   "execution_count": null,
   "id": "b11e24cf",
   "metadata": {},
   "outputs": [],
   "source": []
  },
  {
   "cell_type": "code",
   "execution_count": null,
   "id": "762f7b34",
   "metadata": {},
   "outputs": [],
   "source": []
  },
  {
   "cell_type": "code",
   "execution_count": null,
   "id": "316a65ec",
   "metadata": {},
   "outputs": [],
   "source": []
  },
  {
   "cell_type": "code",
   "execution_count": null,
   "id": "166499c9",
   "metadata": {},
   "outputs": [],
   "source": []
  },
  {
   "cell_type": "markdown",
   "id": "c5d2712d",
   "metadata": {},
   "source": [
    "# Dynamic Array Implementation"
   ]
  },
  {
   "cell_type": "code",
   "execution_count": 11,
   "id": "a5d74ba7",
   "metadata": {},
   "outputs": [],
   "source": [
    "class DynamicArray:\n",
    "    def __init__(self):\n",
    "        self.capacity = 2                 # start small\n",
    "        self.size = 0\n",
    "        self.arr = [None] * self.capacity\n",
    "\n",
    "    def _resize(self, new_capacity):\n",
    "        \"\"\"Resize the underlying array to new_capacity\"\"\"\n",
    "        new_arr = [None] * new_capacity\n",
    "        for i in range(self.size):\n",
    "            new_arr[i] = self.arr[i]\n",
    "        self.arr = new_arr\n",
    "        self.capacity = new_capacity\n",
    "\n",
    "    def append(self, value):\n",
    "        \"\"\"Insert at end, resize if needed\"\"\"\n",
    "        if self.size == self.capacity:\n",
    "            self._resize(self.capacity * 2)   # double capacity\n",
    "        self.arr[self.size] = value\n",
    "        self.size += 1\n",
    "\n",
    "    def get(self, index):\n",
    "        \"\"\"Access element at index\"\"\"\n",
    "        if 0 <= index < self.size:\n",
    "            return self.arr[index]\n",
    "        else:\n",
    "            raise IndexError(\"Invalid index\")\n",
    "\n",
    "    def update(self, index, value):\n",
    "        \"\"\"Update element at index\"\"\"\n",
    "        if 0 <= index < self.size:\n",
    "            self.arr[index] = value\n",
    "        else:\n",
    "            raise IndexError(\"Invalid index\")\n",
    "\n",
    "    def delete(self, index):\n",
    "        \"\"\"Delete element at index and shift\"\"\"\n",
    "        if 0 <= index < self.size:\n",
    "            for i in range(index, self.size - 1):\n",
    "                self.arr[i] = self.arr[i + 1]\n",
    "            self.arr[self.size - 1] = None\n",
    "            self.size -= 1\n",
    "\n",
    "            # Optional: shrink array if usage is too low\n",
    "            if 0 < self.size < self.capacity // 4:\n",
    "                self._resize(self.capacity // 2)\n",
    "        else:\n",
    "            raise IndexError(\"Invalid index\")\n",
    "\n",
    "    def display(self):\n",
    "        \"\"\"Print only valid elements\"\"\"\n",
    "        print([self.arr[i] for i in range(self.size)])"
   ]
  },
  {
   "cell_type": "code",
   "execution_count": 12,
   "id": "614d341b",
   "metadata": {},
   "outputs": [
    {
     "name": "stdout",
     "output_type": "stream",
     "text": [
      "Size: 1, Capacity: 2, Contents: [0]\n",
      "Size: 2, Capacity: 2, Contents: [0, 1]\n",
      "Size: 3, Capacity: 4, Contents: [0, 1, 2]\n",
      "Size: 4, Capacity: 4, Contents: [0, 1, 2, 3]\n",
      "Size: 5, Capacity: 8, Contents: [0, 1, 2, 3, 4]\n",
      "Size: 6, Capacity: 8, Contents: [0, 1, 2, 3, 4, 5]\n",
      "Size: 7, Capacity: 8, Contents: [0, 1, 2, 3, 4, 5, 6]\n",
      "Size: 8, Capacity: 8, Contents: [0, 1, 2, 3, 4, 5, 6, 7]\n",
      "Size: 9, Capacity: 16, Contents: [0, 1, 2, 3, 4, 5, 6, 7, 8]\n",
      "Size: 10, Capacity: 16, Contents: [0, 1, 2, 3, 4, 5, 6, 7, 8, 9]\n"
     ]
    }
   ],
   "source": [
    "arr = DynamicArray()\n",
    "\n",
    "# Append elements (watch capacity grow)\n",
    "for i in range(10):\n",
    "    arr.append(i)\n",
    "    print(f\"Size: {arr.size}, Capacity: {arr.capacity}, Contents:\", end=\" \")\n",
    "    arr.display()"
   ]
  },
  {
   "cell_type": "code",
   "execution_count": 13,
   "id": "15205d5d",
   "metadata": {},
   "outputs": [
    {
     "name": "stdout",
     "output_type": "stream",
     "text": [
      "Element at index 3: 3\n"
     ]
    }
   ],
   "source": [
    "# Access\n",
    "print(\"Element at index 3:\", arr.get(3))"
   ]
  },
  {
   "cell_type": "code",
   "execution_count": 14,
   "id": "f0f1fdcd",
   "metadata": {},
   "outputs": [
    {
     "name": "stdout",
     "output_type": "stream",
     "text": [
      "[0, 1, 2, 99, 4, 5, 6, 7, 8, 9]\n"
     ]
    }
   ],
   "source": [
    "# Update\n",
    "arr.update(3, 99)\n",
    "arr.display()"
   ]
  },
  {
   "cell_type": "code",
   "execution_count": 15,
   "id": "0ec73c12",
   "metadata": {},
   "outputs": [
    {
     "name": "stdout",
     "output_type": "stream",
     "text": [
      "[0, 1, 2, 99, 4, 6, 7, 8, 9]\n"
     ]
    }
   ],
   "source": [
    "# Delete\n",
    "arr.delete(5)\n",
    "arr.display()"
   ]
  },
  {
   "cell_type": "code",
   "execution_count": null,
   "id": "df04b86a",
   "metadata": {},
   "outputs": [],
   "source": []
  },
  {
   "cell_type": "code",
   "execution_count": null,
   "id": "0df4192a",
   "metadata": {},
   "outputs": [],
   "source": []
  },
  {
   "cell_type": "code",
   "execution_count": null,
   "id": "89f0e4b1",
   "metadata": {},
   "outputs": [],
   "source": []
  },
  {
   "cell_type": "code",
   "execution_count": null,
   "id": "c5ed62d1",
   "metadata": {},
   "outputs": [],
   "source": []
  },
  {
   "cell_type": "markdown",
   "id": "06e8a7e0",
   "metadata": {},
   "source": [
    "## Dynamic Array using Pythons Built in List Functions"
   ]
  },
  {
   "cell_type": "code",
   "execution_count": 16,
   "id": "c29cf8b2",
   "metadata": {},
   "outputs": [],
   "source": [
    "class DynamicArray:\n",
    "    def __init__(self):\n",
    "        self.arr = []   # start with empty list\n",
    "\n",
    "    def append(self, value):\n",
    "        \"\"\"Insert at end\"\"\"\n",
    "        self.arr.append(value)\n",
    "\n",
    "    def insert(self, index, value):\n",
    "        \"\"\"Insert at index (shifts elements to the right)\"\"\"\n",
    "        self.arr.insert(index, value)\n",
    "\n",
    "    def get(self, index):\n",
    "        \"\"\"Access element\"\"\"\n",
    "        return self.arr[index]\n",
    "\n",
    "    def update(self, index, value):\n",
    "        \"\"\"Update element\"\"\"\n",
    "        self.arr[index] = value\n",
    "\n",
    "    def delete(self, index):\n",
    "        \"\"\"Delete element at index\"\"\"\n",
    "        self.arr.pop(index)\n",
    "\n",
    "    def display(self):\n",
    "        \"\"\"Show all elements\"\"\"\n",
    "        print(self.arr)"
   ]
  },
  {
   "cell_type": "code",
   "execution_count": null,
   "id": "ceb9e625",
   "metadata": {},
   "outputs": [],
   "source": []
  },
  {
   "cell_type": "code",
   "execution_count": null,
   "id": "4accf1a0",
   "metadata": {},
   "outputs": [],
   "source": []
  },
  {
   "cell_type": "code",
   "execution_count": null,
   "id": "cc07ceaa",
   "metadata": {},
   "outputs": [],
   "source": []
  },
  {
   "cell_type": "code",
   "execution_count": null,
   "id": "a18e1d76",
   "metadata": {},
   "outputs": [],
   "source": []
  },
  {
   "cell_type": "code",
   "execution_count": null,
   "id": "6078e4d8",
   "metadata": {},
   "outputs": [],
   "source": []
  },
  {
   "cell_type": "code",
   "execution_count": null,
   "id": "cd4c6574",
   "metadata": {},
   "outputs": [],
   "source": []
  },
  {
   "cell_type": "markdown",
   "id": "c666debb",
   "metadata": {},
   "source": [
    "### Basic Application of Arrays"
   ]
  },
  {
   "cell_type": "code",
   "execution_count": 17,
   "id": "c02dd366",
   "metadata": {},
   "outputs": [],
   "source": [
    "arr = []"
   ]
  },
  {
   "cell_type": "code",
   "execution_count": 18,
   "id": "03bff657",
   "metadata": {},
   "outputs": [
    {
     "name": "stdout",
     "output_type": "stream",
     "text": [
      "[1]\n"
     ]
    }
   ],
   "source": [
    "arr.append(1)\n",
    "\n",
    "print(arr)"
   ]
  },
  {
   "cell_type": "code",
   "execution_count": null,
   "id": "0ac3112d",
   "metadata": {},
   "outputs": [],
   "source": []
  },
  {
   "cell_type": "code",
   "execution_count": 19,
   "id": "f6dfb8fa",
   "metadata": {},
   "outputs": [
    {
     "name": "stdout",
     "output_type": "stream",
     "text": [
      "[7, 1]\n"
     ]
    }
   ],
   "source": [
    "arr.insert(0, 7)\n",
    "\n",
    "print(arr)"
   ]
  },
  {
   "cell_type": "code",
   "execution_count": 20,
   "id": "1f6aed89",
   "metadata": {},
   "outputs": [
    {
     "data": {
      "text/plain": [
       "1"
      ]
     },
     "execution_count": 20,
     "metadata": {},
     "output_type": "execute_result"
    }
   ],
   "source": [
    "arr[1]"
   ]
  },
  {
   "cell_type": "code",
   "execution_count": 21,
   "id": "9b4f77b1",
   "metadata": {},
   "outputs": [
    {
     "name": "stdout",
     "output_type": "stream",
     "text": [
      "[0, 1]\n"
     ]
    }
   ],
   "source": [
    "arr[0] = 0\n",
    "\n",
    "print(arr)"
   ]
  },
  {
   "cell_type": "code",
   "execution_count": 22,
   "id": "13bde913",
   "metadata": {},
   "outputs": [
    {
     "name": "stdout",
     "output_type": "stream",
     "text": [
      "[0]\n"
     ]
    }
   ],
   "source": [
    "arr.pop(1)\n",
    "\n",
    "print(arr)"
   ]
  },
  {
   "cell_type": "code",
   "execution_count": null,
   "id": "39df1e0b",
   "metadata": {},
   "outputs": [],
   "source": []
  },
  {
   "cell_type": "code",
   "execution_count": null,
   "id": "7044052c",
   "metadata": {},
   "outputs": [],
   "source": []
  },
  {
   "cell_type": "markdown",
   "id": "845ee6c9",
   "metadata": {},
   "source": [
    "## Basic Array Questions"
   ]
  },
  {
   "cell_type": "markdown",
   "id": "1c1b49ff",
   "metadata": {},
   "source": [
    "### Coffee Cart – Orders Queue (CRUD basics)\n",
    "\n",
    "Data: orders = [\"latte\", \"espresso\", \"mocha\"]\n",
    "\n",
    "Create an empty order list, then append those three drinks in that order. Verify length after each append.\n",
    "\n",
    "Insert \"cappuccino\" at index 1 without replacing any item.\n",
    "\n",
    "A customer cancels the last order: remove the final element three different ways (slice reassign, pop(), del).\n",
    "\n",
    "Replace the order at index 0 with \"flat white\".\n",
    "\n",
    "Remove the first occurrence of \"espresso\" by value (not by index). If missing, do nothing (no errors).\n",
    "\n",
    "Extend the queue with [\"americano\", \"macchiato\"] using exactly one call.\n",
    "\n",
    "Edge checks: empty list → pop; removing non-existent item; negative indexes."
   ]
  },
  {
   "cell_type": "code",
   "execution_count": 7,
   "id": "bff4f415",
   "metadata": {},
   "outputs": [],
   "source": [
    "orders = []"
   ]
  },
  {
   "cell_type": "code",
   "execution_count": 10,
   "id": "fbbe66d0",
   "metadata": {},
   "outputs": [],
   "source": [
    "orders.append('latte')"
   ]
  },
  {
   "cell_type": "code",
   "execution_count": 12,
   "id": "5bc3e6f6",
   "metadata": {},
   "outputs": [
    {
     "data": {
      "text/plain": [
       "1"
      ]
     },
     "execution_count": 12,
     "metadata": {},
     "output_type": "execute_result"
    }
   ],
   "source": [
    "len(orders)"
   ]
  },
  {
   "cell_type": "code",
   "execution_count": 13,
   "id": "da1b2e1c",
   "metadata": {},
   "outputs": [],
   "source": [
    "orders.append('expresso')"
   ]
  },
  {
   "cell_type": "code",
   "execution_count": 14,
   "id": "da74fc0f",
   "metadata": {},
   "outputs": [
    {
     "data": {
      "text/plain": [
       "2"
      ]
     },
     "execution_count": 14,
     "metadata": {},
     "output_type": "execute_result"
    }
   ],
   "source": [
    "len(orders)"
   ]
  },
  {
   "cell_type": "code",
   "execution_count": 16,
   "id": "e8417fa5",
   "metadata": {},
   "outputs": [],
   "source": [
    "orders.append('mocha')"
   ]
  },
  {
   "cell_type": "code",
   "execution_count": 17,
   "id": "821c283c",
   "metadata": {},
   "outputs": [
    {
     "name": "stdout",
     "output_type": "stream",
     "text": [
      "['latte', 'expresso', 'mocha', 'mocha']\n"
     ]
    }
   ],
   "source": [
    "print(orders)"
   ]
  },
  {
   "cell_type": "code",
   "execution_count": 19,
   "id": "1c82308b",
   "metadata": {},
   "outputs": [
    {
     "data": {
      "text/plain": [
       "4"
      ]
     },
     "execution_count": 19,
     "metadata": {},
     "output_type": "execute_result"
    }
   ],
   "source": [
    "len(orders)"
   ]
  },
  {
   "cell_type": "code",
   "execution_count": 20,
   "id": "436e8020",
   "metadata": {},
   "outputs": [
    {
     "data": {
      "text/plain": [
       "'mocha'"
      ]
     },
     "execution_count": 20,
     "metadata": {},
     "output_type": "execute_result"
    }
   ],
   "source": [
    "orders.pop()"
   ]
  },
  {
   "cell_type": "code",
   "execution_count": 21,
   "id": "1ef7bf37",
   "metadata": {},
   "outputs": [
    {
     "data": {
      "text/plain": [
       "3"
      ]
     },
     "execution_count": 21,
     "metadata": {},
     "output_type": "execute_result"
    }
   ],
   "source": [
    "len(orders)"
   ]
  },
  {
   "cell_type": "code",
   "execution_count": 24,
   "id": "cabb9ff8",
   "metadata": {},
   "outputs": [],
   "source": [
    "orders.insert(1, 'cappuccino')"
   ]
  },
  {
   "cell_type": "code",
   "execution_count": 25,
   "id": "6d4d71c1",
   "metadata": {},
   "outputs": [
    {
     "name": "stdout",
     "output_type": "stream",
     "text": [
      "['latte', 'cappuccino', 'expresso', 'mocha']\n"
     ]
    }
   ],
   "source": [
    "print(orders)"
   ]
  },
  {
   "cell_type": "code",
   "execution_count": 26,
   "id": "28a2967e",
   "metadata": {},
   "outputs": [
    {
     "data": {
      "text/plain": [
       "'mocha'"
      ]
     },
     "execution_count": 26,
     "metadata": {},
     "output_type": "execute_result"
    }
   ],
   "source": [
    "orders.pop()"
   ]
  },
  {
   "cell_type": "code",
   "execution_count": 27,
   "id": "6630a796",
   "metadata": {},
   "outputs": [],
   "source": [
    "orders.append('mocha')"
   ]
  },
  {
   "cell_type": "code",
   "execution_count": 28,
   "id": "911defea",
   "metadata": {},
   "outputs": [],
   "source": [
    "del orders[-1]"
   ]
  },
  {
   "cell_type": "code",
   "execution_count": 29,
   "id": "33b6ff7c",
   "metadata": {},
   "outputs": [
    {
     "name": "stdout",
     "output_type": "stream",
     "text": [
      "['latte', 'cappuccino', 'expresso']\n"
     ]
    }
   ],
   "source": [
    "print(orders)"
   ]
  },
  {
   "cell_type": "code",
   "execution_count": 30,
   "id": "a693e55a",
   "metadata": {},
   "outputs": [],
   "source": [
    "orders.append('mocha')"
   ]
  },
  {
   "cell_type": "code",
   "execution_count": 31,
   "id": "94c9dc10",
   "metadata": {},
   "outputs": [],
   "source": [
    "orders[3:4] = []"
   ]
  },
  {
   "cell_type": "code",
   "execution_count": 32,
   "id": "d5806fbc",
   "metadata": {},
   "outputs": [
    {
     "name": "stdout",
     "output_type": "stream",
     "text": [
      "['latte', 'cappuccino', 'expresso']\n"
     ]
    }
   ],
   "source": [
    "print(orders)"
   ]
  },
  {
   "cell_type": "code",
   "execution_count": 34,
   "id": "bdb2d711",
   "metadata": {},
   "outputs": [],
   "source": [
    "orders[0] = 'flat white'"
   ]
  },
  {
   "cell_type": "code",
   "execution_count": 35,
   "id": "f29f0091",
   "metadata": {},
   "outputs": [
    {
     "name": "stdout",
     "output_type": "stream",
     "text": [
      "['flat white', 'cappuccino', 'expresso']\n"
     ]
    }
   ],
   "source": [
    "print(orders)"
   ]
  },
  {
   "cell_type": "code",
   "execution_count": 36,
   "id": "65c9a699",
   "metadata": {},
   "outputs": [],
   "source": [
    "orders.remove('expresso')"
   ]
  },
  {
   "cell_type": "code",
   "execution_count": 37,
   "id": "f39dd0a3",
   "metadata": {},
   "outputs": [
    {
     "name": "stdout",
     "output_type": "stream",
     "text": [
      "['flat white', 'cappuccino']\n"
     ]
    }
   ],
   "source": [
    "print(orders)"
   ]
  },
  {
   "cell_type": "code",
   "execution_count": 38,
   "id": "3099d615",
   "metadata": {},
   "outputs": [],
   "source": [
    "orders.extend(['americano', 'macchiato'])"
   ]
  },
  {
   "cell_type": "code",
   "execution_count": 39,
   "id": "140d6ea8",
   "metadata": {},
   "outputs": [
    {
     "name": "stdout",
     "output_type": "stream",
     "text": [
      "['flat white', 'cappuccino', 'americano', 'macchiato']\n"
     ]
    }
   ],
   "source": [
    "print(orders)"
   ]
  },
  {
   "cell_type": "code",
   "execution_count": null,
   "id": "efe6b2fd",
   "metadata": {},
   "outputs": [],
   "source": []
  },
  {
   "cell_type": "code",
   "execution_count": null,
   "id": "c7f1e9ce",
   "metadata": {},
   "outputs": [],
   "source": []
  },
  {
   "cell_type": "markdown",
   "id": "ba3a1ff5",
   "metadata": {},
   "source": [
    "### Grocery Basket – Inventory Mutations (insert/delete ranges)\n",
    "\n",
    "Data: basket = [\"apples\",\"bananas\",\"grapes\",\"oranges\",\"apples\"]\n",
    "\n",
    "Replace the middle range so that basket[1:4] becomes [\"kiwi\",\"pear\"] (length shrinks).\n",
    "\n",
    "Delete every second item using slicing assignment (no loops).\n",
    "\n",
    "Add \"apples\" back to the front in one statement (no intermediate list variables).\n",
    "\n",
    "Remove all \"apples\" in place (no new list); show two approaches (loop backward vs. slice-filter).\n",
    "\n",
    "Undo step 4 by reconstructing the original list from a saved snapshot (practice copying vs referencing).\n",
    "\n",
    "Edge checks: aliasing (copy() vs =), slice step semantics."
   ]
  },
  {
   "cell_type": "code",
   "execution_count": 67,
   "id": "98b79ea6",
   "metadata": {},
   "outputs": [],
   "source": [
    "basket = [\"apples\",\"bananas\",\"grapes\",\"oranges\",\"apples\"]"
   ]
  },
  {
   "cell_type": "code",
   "execution_count": 53,
   "id": "a1c4389e",
   "metadata": {},
   "outputs": [
    {
     "name": "stdout",
     "output_type": "stream",
     "text": [
      "['apples', 'bananas', 'grapes', 'oranges', 'apples']\n",
      "5\n"
     ]
    }
   ],
   "source": [
    "print(basket)\n",
    "print(len(basket))"
   ]
  },
  {
   "cell_type": "code",
   "execution_count": 54,
   "id": "63f0da6f",
   "metadata": {},
   "outputs": [],
   "source": [
    "basket[1:4] = ['kiwi', 'pear']"
   ]
  },
  {
   "cell_type": "code",
   "execution_count": 55,
   "id": "b1a437bd",
   "metadata": {},
   "outputs": [
    {
     "name": "stdout",
     "output_type": "stream",
     "text": [
      "['apples', 'kiwi', 'pear', 'apples']\n",
      "4\n"
     ]
    }
   ],
   "source": [
    "print(basket)\n",
    "print(len(basket))"
   ]
  },
  {
   "cell_type": "code",
   "execution_count": 56,
   "id": "ced11ec4",
   "metadata": {},
   "outputs": [],
   "source": [
    "basket[1:2]=[]\n",
    "basket[2:3]=[]"
   ]
  },
  {
   "cell_type": "code",
   "execution_count": 57,
   "id": "70faaf83",
   "metadata": {},
   "outputs": [
    {
     "name": "stdout",
     "output_type": "stream",
     "text": [
      "['apples', 'pear']\n",
      "2\n"
     ]
    }
   ],
   "source": [
    "print(basket)\n",
    "print(len(basket))"
   ]
  },
  {
   "cell_type": "code",
   "execution_count": 58,
   "id": "7c32f6c5",
   "metadata": {},
   "outputs": [],
   "source": [
    "basket.insert(0, 'apples')"
   ]
  },
  {
   "cell_type": "code",
   "execution_count": 59,
   "id": "e92f80f8",
   "metadata": {},
   "outputs": [
    {
     "name": "stdout",
     "output_type": "stream",
     "text": [
      "['apples', 'apples', 'pear']\n",
      "3\n"
     ]
    }
   ],
   "source": [
    "print(basket)\n",
    "print(len(basket))"
   ]
  },
  {
   "cell_type": "code",
   "execution_count": 61,
   "id": "f7d80730",
   "metadata": {},
   "outputs": [
    {
     "name": "stdout",
     "output_type": "stream",
     "text": [
      "apples\n",
      "apples\n",
      "pear\n"
     ]
    }
   ],
   "source": [
    "for i in range(0, len(basket), 1):\n",
    "    print(basket[i]) "
   ]
  },
  {
   "cell_type": "code",
   "execution_count": 68,
   "id": "c0ba0888",
   "metadata": {},
   "outputs": [],
   "source": [
    "for i in range(len(basket) - 1, -1, -1):\n",
    "    if basket[i] == 'apples':\n",
    "        del basket[i]"
   ]
  },
  {
   "cell_type": "code",
   "execution_count": 69,
   "id": "431167c0",
   "metadata": {},
   "outputs": [
    {
     "name": "stdout",
     "output_type": "stream",
     "text": [
      "['bananas', 'grapes', 'oranges']\n"
     ]
    }
   ],
   "source": [
    "print(basket)"
   ]
  },
  {
   "cell_type": "code",
   "execution_count": null,
   "id": "c6a8ed0e",
   "metadata": {},
   "outputs": [],
   "source": []
  },
  {
   "cell_type": "code",
   "execution_count": null,
   "id": "d24a99b2",
   "metadata": {},
   "outputs": [],
   "source": []
  }
 ],
 "metadata": {
  "kernelspec": {
   "display_name": "Python 3 (ipykernel)",
   "language": "python",
   "name": "python3"
  },
  "language_info": {
   "codemirror_mode": {
    "name": "ipython",
    "version": 3
   },
   "file_extension": ".py",
   "mimetype": "text/x-python",
   "name": "python",
   "nbconvert_exporter": "python",
   "pygments_lexer": "ipython3",
   "version": "3.11.4"
  }
 },
 "nbformat": 4,
 "nbformat_minor": 5
}
