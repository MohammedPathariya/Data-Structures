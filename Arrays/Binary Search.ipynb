{
 "cells": [
  {
   "cell_type": "code",
   "execution_count": 3,
   "id": "b80a41b3",
   "metadata": {},
   "outputs": [
    {
     "name": "stdout",
     "output_type": "stream",
     "text": [
      "True\n"
     ]
    }
   ],
   "source": [
    "A = [-5,-4,-3,-2,-1,0,1,2,3,4,5]\n",
    "\n",
    "# Naive O(n) searching\n",
    "\n",
    "if 5 in A:\n",
    "    print(True)"
   ]
  },
  {
   "cell_type": "markdown",
   "id": "e9d45435",
   "metadata": {},
   "source": [
    "Here, it recursively loops through the entire dataset (array) and tries to match the value with the target value, this will have O(n) time complexity as in the worst case, there is a possibility that the target value is in the end of the array, there by taking n iterations to reach there"
   ]
  },
  {
   "cell_type": "code",
   "execution_count": 8,
   "id": "77e69585",
   "metadata": {},
   "outputs": [],
   "source": [
    "# Traditional Binary Search\n",
    "# Time Complexity -> O(log n)\n",
    "# Space Complexity -> O(1)\n",
    "\n",
    "def binary_search(arr, target):\n",
    "    N = len(arr)\n",
    "    L = 0\n",
    "    R = N - 1\n",
    "    \n",
    "    while L <= R:\n",
    "        \n",
    "        M = L + ((R - L )//2)       # midpoint\n",
    "        \n",
    "        if arr[M] == target:\n",
    "            return (True)           # check if the middle element itself is the target value, and break if it is\n",
    "        \n",
    "        elif target < arr[M]:\n",
    "            R = M - 1               # if the target is smaller than the middle point, shift the R pointer to one less \n",
    "                                    # than M, therby discarding the right side of the array\n",
    "\n",
    "        else:\n",
    "            L = M + 1               # if the target is larger than the middle point, shift the L pointer to one more \n",
    "                                    # than M, therby discarding the left side of the array\n",
    "    \n",
    "    return (False)                  # no value found in the array that matches the target value"
   ]
  },
  {
   "cell_type": "code",
   "execution_count": 10,
   "id": "c56229a2",
   "metadata": {},
   "outputs": [
    {
     "data": {
      "text/plain": [
       "False"
      ]
     },
     "execution_count": 10,
     "metadata": {},
     "output_type": "execute_result"
    }
   ],
   "source": [
    "binary_search(A, 10)"
   ]
  },
  {
   "cell_type": "markdown",
   "id": "d06224e1",
   "metadata": {},
   "source": [
    "Here, we are using the logic that, as the array is sorted, we can in theory, look up the middle number itself, and then based on the middle number, if the target value to find is less, we can then eliminate the right side of the array directly, and just focus on the left side. \n",
    "\n",
    "Basic Steps:\n",
    "finding the middle point, comparing it to the target value, then eleminating one half of the array, repeating the first step.\n",
    "\n",
    "Also, two important things:\n",
    "\n",
    "Firstly, the array must be sorted in ascending order for this to work\n",
    "\n",
    "Secondly, look at the Middile Point formula: Basic one -> M = (L + R) // 2, (The floor division operator // is used here so as to tackle the problem of even numbered arrays, they will return the middle point in .5 increments, so we choose the closest smaller whole number. i.e it rounds the answer down).\n",
    "Advanced Formula -> M = L + ((R-L) // 2). Same principle, but witten in this way to avoid integer overflow. This is a case when the two numbers (L,R) are too big themselves, and then we do some addition or multiplication operations on them, increasing the mumber further. So using the advance formula is the best practice."
   ]
  },
  {
   "cell_type": "code",
   "execution_count": null,
   "id": "2c959009",
   "metadata": {},
   "outputs": [],
   "source": []
  },
  {
   "cell_type": "code",
   "execution_count": 21,
   "id": "46c1b7fd",
   "metadata": {},
   "outputs": [],
   "source": [
    "# Binary Search but based on a condition\n",
    "# [F,F,F,F,T,T,T,T,T,T]\n",
    "#At some unknown “flip index,” values change from False → True.\n",
    "#Goal: return the first index where True appears.\n",
    "# Time Complexity -> O(log n)\n",
    "# Space Complexity -> O(1)\n",
    "\n",
    "B = [False, False, False, False, False, True, True, True, True, True]\n",
    "\n",
    "def binary_search_condition(arr):\n",
    "    \n",
    "    N = len(arr)\n",
    "    L = 0\n",
    "    R = N - 1\n",
    "    \n",
    "    while L < R:\n",
    "        M = L + ((R-L) // 2)      # midpoint\n",
    "        \n",
    "        if arr[M]:\n",
    "            R = M                 # shrink right side if True\n",
    "            \n",
    "        else:\n",
    "            L = M + 1             # skip left side if False\n",
    "            \n",
    "    return L"
   ]
  },
  {
   "cell_type": "code",
   "execution_count": 22,
   "id": "0623e203",
   "metadata": {},
   "outputs": [
    {
     "data": {
      "text/plain": [
       "5"
      ]
     },
     "execution_count": 22,
     "metadata": {},
     "output_type": "execute_result"
    }
   ],
   "source": [
    "binary_search_condition(B)"
   ]
  },
  {
   "cell_type": "markdown",
   "id": "9430b39c",
   "metadata": {},
   "source": [
    "Real World Application of Condition Based binary search:\n",
    "    \n",
    "Imagine you are playing a role-playing video game where your character’s power level determines whether you can defeat a particular boss. If your power level is too low, every attempt fails no matter how many times you try. Once you reach a certain threshold, however, you are always able to win. This creates a very clear boundary: below some level it’s impossible, and at or above that level victory is guaranteed. If you plotted all possible power levels against “can I win?”, it would look like [False, False, False, …, True, True, True…], just like the array in your binary search condition example. Instead of testing every power level one by one, which could take forever if the range is large, you can use condition-based binary search to quickly home in on the first “True” point — the minimum power needed to succeed. At each step you test the midpoint power level, simulate or check whether it beats the boss, and then adjust your search range depending on the result. Within a logarithmic number of checks, you’ll find the exact threshold where the game flips from unwinnable to winnable."
   ]
  },
  {
   "cell_type": "code",
   "execution_count": null,
   "id": "e139a7c7",
   "metadata": {},
   "outputs": [],
   "source": []
  }
 ],
 "metadata": {
  "kernelspec": {
   "display_name": "Python 3 (ipykernel)",
   "language": "python",
   "name": "python3"
  },
  "language_info": {
   "codemirror_mode": {
    "name": "ipython",
    "version": 3
   },
   "file_extension": ".py",
   "mimetype": "text/x-python",
   "name": "python",
   "nbconvert_exporter": "python",
   "pygments_lexer": "ipython3",
   "version": "3.11.4"
  }
 },
 "nbformat": 4,
 "nbformat_minor": 5
}
